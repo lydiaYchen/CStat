{
 "cells": [
  {
   "cell_type": "code",
   "execution_count": 1,
   "metadata": {},
   "outputs": [],
   "source": [
    "import numpy as np \n",
    "import pandas as pd\n",
    "import scipy.stats as st\n",
    "import matplotlib.pyplot as plt\n",
    "import statsmodels.api as sm\n",
    "from statsmodels.formula.api import ols"
   ]
  },
  {
   "cell_type": "markdown",
   "metadata": {},
   "source": [
    "# $2^k$ Factorial Design and 2-level Fractional Factorial Designs"
   ]
  },
  {
   "cell_type": "markdown",
   "metadata": {},
   "source": [
    "A $2^3$ factorial design was used to develop a nitride etch process on a single-wafer plasma etching tool. The design\n",
    "factors are the gap between the electrodes, the gas flow ($C_2F_6$ is used as the reactant gas), and the RF power\n",
    "applied to the cathode. Each factor is run at two levels, and the design is replicated twice. The response variable is the etch rate for silicon nitride (Å/m). Do the followings:\n",
    "\n",
    "- Calculate the factor effects, sum of squares, mean squares, F-statistics and p-values. \n",
    "- Calculate sum of squares, mean squares, F-statistics and p-values for main effects, two-way interactions and three-way interactions.\n",
    "- Calculate the F-statiscs for the model and evaluate it using $R^2$.\n",
    "- Decide which factors are significant? Define a regression model with significant factors."
   ]
  },
  {
   "cell_type": "markdown",
   "metadata": {},
   "source": [
    "Factors are the following:\n",
    "- A: the gap between the electrodes\n",
    "- B: the gas flow\n",
    "- C: the RF power"
   ]
  },
  {
   "cell_type": "code",
   "execution_count": 2,
   "metadata": {},
   "outputs": [
    {
     "data": {
      "text/html": [
       "<div>\n",
       "<style scoped>\n",
       "    .dataframe tbody tr th:only-of-type {\n",
       "        vertical-align: middle;\n",
       "    }\n",
       "\n",
       "    .dataframe tbody tr th {\n",
       "        vertical-align: top;\n",
       "    }\n",
       "\n",
       "    .dataframe thead th {\n",
       "        text-align: right;\n",
       "    }\n",
       "</style>\n",
       "<table border=\"1\" class=\"dataframe\">\n",
       "  <thead>\n",
       "    <tr style=\"text-align: right;\">\n",
       "      <th></th>\n",
       "      <th>Run</th>\n",
       "      <th>A</th>\n",
       "      <th>B</th>\n",
       "      <th>C</th>\n",
       "      <th>Replicate 1</th>\n",
       "      <th>Replicate 2</th>\n",
       "      <th>Total</th>\n",
       "      <th>Factor_level_A</th>\n",
       "      <th>Factor_level_B</th>\n",
       "      <th>Factor_level_C</th>\n",
       "    </tr>\n",
       "  </thead>\n",
       "  <tbody>\n",
       "    <tr>\n",
       "      <th>0</th>\n",
       "      <td>1</td>\n",
       "      <td>-1</td>\n",
       "      <td>-1</td>\n",
       "      <td>-1</td>\n",
       "      <td>550</td>\n",
       "      <td>604</td>\n",
       "      <td>1154</td>\n",
       "      <td>0.8</td>\n",
       "      <td>125</td>\n",
       "      <td>275</td>\n",
       "    </tr>\n",
       "    <tr>\n",
       "      <th>1</th>\n",
       "      <td>2</td>\n",
       "      <td>1</td>\n",
       "      <td>-1</td>\n",
       "      <td>-1</td>\n",
       "      <td>669</td>\n",
       "      <td>650</td>\n",
       "      <td>1319</td>\n",
       "      <td>1.2</td>\n",
       "      <td>125</td>\n",
       "      <td>275</td>\n",
       "    </tr>\n",
       "    <tr>\n",
       "      <th>2</th>\n",
       "      <td>3</td>\n",
       "      <td>-1</td>\n",
       "      <td>1</td>\n",
       "      <td>-1</td>\n",
       "      <td>633</td>\n",
       "      <td>601</td>\n",
       "      <td>1234</td>\n",
       "      <td>0.8</td>\n",
       "      <td>200</td>\n",
       "      <td>275</td>\n",
       "    </tr>\n",
       "    <tr>\n",
       "      <th>3</th>\n",
       "      <td>4</td>\n",
       "      <td>1</td>\n",
       "      <td>1</td>\n",
       "      <td>-1</td>\n",
       "      <td>642</td>\n",
       "      <td>635</td>\n",
       "      <td>1277</td>\n",
       "      <td>1.2</td>\n",
       "      <td>200</td>\n",
       "      <td>275</td>\n",
       "    </tr>\n",
       "    <tr>\n",
       "      <th>4</th>\n",
       "      <td>5</td>\n",
       "      <td>-1</td>\n",
       "      <td>-1</td>\n",
       "      <td>1</td>\n",
       "      <td>1037</td>\n",
       "      <td>1052</td>\n",
       "      <td>2089</td>\n",
       "      <td>0.8</td>\n",
       "      <td>125</td>\n",
       "      <td>325</td>\n",
       "    </tr>\n",
       "    <tr>\n",
       "      <th>5</th>\n",
       "      <td>6</td>\n",
       "      <td>1</td>\n",
       "      <td>-1</td>\n",
       "      <td>1</td>\n",
       "      <td>749</td>\n",
       "      <td>868</td>\n",
       "      <td>1617</td>\n",
       "      <td>1.2</td>\n",
       "      <td>125</td>\n",
       "      <td>325</td>\n",
       "    </tr>\n",
       "    <tr>\n",
       "      <th>6</th>\n",
       "      <td>7</td>\n",
       "      <td>-1</td>\n",
       "      <td>1</td>\n",
       "      <td>1</td>\n",
       "      <td>1075</td>\n",
       "      <td>1063</td>\n",
       "      <td>2138</td>\n",
       "      <td>0.8</td>\n",
       "      <td>200</td>\n",
       "      <td>325</td>\n",
       "    </tr>\n",
       "    <tr>\n",
       "      <th>7</th>\n",
       "      <td>8</td>\n",
       "      <td>1</td>\n",
       "      <td>1</td>\n",
       "      <td>1</td>\n",
       "      <td>729</td>\n",
       "      <td>860</td>\n",
       "      <td>1589</td>\n",
       "      <td>1.2</td>\n",
       "      <td>200</td>\n",
       "      <td>325</td>\n",
       "    </tr>\n",
       "  </tbody>\n",
       "</table>\n",
       "</div>"
      ],
      "text/plain": [
       "   Run  A  B  C  Replicate 1  Replicate 2  Total  Factor_level_A  \\\n",
       "0    1 -1 -1 -1          550          604   1154             0.8   \n",
       "1    2  1 -1 -1          669          650   1319             1.2   \n",
       "2    3 -1  1 -1          633          601   1234             0.8   \n",
       "3    4  1  1 -1          642          635   1277             1.2   \n",
       "4    5 -1 -1  1         1037         1052   2089             0.8   \n",
       "5    6  1 -1  1          749          868   1617             1.2   \n",
       "6    7 -1  1  1         1075         1063   2138             0.8   \n",
       "7    8  1  1  1          729          860   1589             1.2   \n",
       "\n",
       "   Factor_level_B  Factor_level_C  \n",
       "0             125             275  \n",
       "1             125             275  \n",
       "2             200             275  \n",
       "3             200             275  \n",
       "4             125             325  \n",
       "5             125             325  \n",
       "6             200             325  \n",
       "7             200             325  "
      ]
     },
     "execution_count": 2,
     "metadata": {},
     "output_type": "execute_result"
    }
   ],
   "source": [
    "data = {\n",
    "    \"Run\": [1, 2, 3, 4, 5, 6, 7, 8],\n",
    "    \"A\": [-1, 1, -1, 1, -1, 1, -1, 1],\n",
    "    \"B\": [-1, -1, 1, 1, -1, -1, 1, 1],\n",
    "    \"C\": [-1, -1, -1, -1, 1, 1, 1, 1],\n",
    "    \"Replicate 1\": [550, 669, 633, 642, 1037, 749, 1075, 729],\n",
    "    \"Replicate 2\": [604, 650, 601, 635, 1052, 868, 1063, 860],\n",
    "    \"Total\": [1154, 1319, 1234, 1277, 2089, 1617, 2138, 1589],\n",
    "    \"Factor_level_A\": [0.80, 1.20, 0.80, 1.20, 0.80, 1.20, 0.80, 1.20],\n",
    "    \"Factor_level_B\": [125, 125, 200, 200, 125, 125, 200, 200],\n",
    "    \"Factor_level_C\": [275, 275, 275, 275, 325, 325, 325, 325]\n",
    "}\n",
    "\n",
    "data = pd.DataFrame(data)\n",
    "data\n"
   ]
  },
  {
   "cell_type": "code",
   "execution_count": null,
   "metadata": {},
   "outputs": [
    {
     "data": {
      "text/plain": [
       "16"
      ]
     },
     "execution_count": 5,
     "metadata": {},
     "output_type": "execute_result"
    }
   ],
   "source": [
    "# number of replicates\n",
    "n = 2\n",
    "# number of observations\n",
    "N = (2**3) * n\n",
    "N"
   ]
  },
  {
   "cell_type": "markdown",
   "metadata": {},
   "source": [
    "### Calculate Factor Effects"
   ]
  },
  {
   "cell_type": "code",
   "execution_count": 3,
   "metadata": {},
   "outputs": [],
   "source": [
    "# Treatment Combinations\n",
    "treatment_comb_1 = data.loc[0, \"Total\"]\n",
    "a = data.loc[1, \"Total\"]\n",
    "b = data.loc[2, \"Total\"]\n",
    "ab = data.loc[3, \"Total\"]\n",
    "c = data.loc[4, \"Total\"]\n",
    "ac = data.loc[5, \"Total\"]\n",
    "bc = data.loc[6, \"Total\"]\n",
    "abc = data.loc[7, \"Total\"]"
   ]
  },
  {
   "cell_type": "code",
   "execution_count": null,
   "metadata": {},
   "outputs": [],
   "source": [
    "A = ...\n",
    "A"
   ]
  },
  {
   "cell_type": "code",
   "execution_count": null,
   "metadata": {},
   "outputs": [],
   "source": [
    "B = ...\n",
    "B"
   ]
  },
  {
   "cell_type": "code",
   "execution_count": null,
   "metadata": {},
   "outputs": [],
   "source": [
    "C = ...\n",
    "C"
   ]
  },
  {
   "cell_type": "code",
   "execution_count": null,
   "metadata": {},
   "outputs": [],
   "source": [
    "AB = ...\n",
    "AB"
   ]
  },
  {
   "cell_type": "code",
   "execution_count": null,
   "metadata": {},
   "outputs": [],
   "source": [
    "AC = ...\n",
    "AC"
   ]
  },
  {
   "cell_type": "code",
   "execution_count": null,
   "metadata": {},
   "outputs": [],
   "source": [
    "BC = ...\n",
    "BC"
   ]
  },
  {
   "cell_type": "code",
   "execution_count": null,
   "metadata": {},
   "outputs": [],
   "source": [
    "ABC = ...\n",
    "ABC"
   ]
  },
  {
   "cell_type": "markdown",
   "metadata": {},
   "source": [
    "### Calculate Sum of Squares Using Factor Effects\n",
    "\n",
    "$$ SS_i = \\frac{Contrast_i}{\\text{Number of Observations}} $$"
   ]
  },
  {
   "cell_type": "code",
   "execution_count": null,
   "metadata": {},
   "outputs": [],
   "source": [
    "SS_A = ...\n",
    "SS_A"
   ]
  },
  {
   "cell_type": "code",
   "execution_count": null,
   "metadata": {},
   "outputs": [],
   "source": [
    "SS_B = ...\n",
    "SS_B"
   ]
  },
  {
   "cell_type": "code",
   "execution_count": null,
   "metadata": {},
   "outputs": [],
   "source": [
    "SS_C = ...\n",
    "SS_C"
   ]
  },
  {
   "cell_type": "code",
   "execution_count": null,
   "metadata": {},
   "outputs": [],
   "source": [
    "SS_AB = ...\n",
    "SS_AB"
   ]
  },
  {
   "cell_type": "code",
   "execution_count": null,
   "metadata": {},
   "outputs": [],
   "source": [
    "SS_AC = ...\n",
    "SS_AC"
   ]
  },
  {
   "cell_type": "code",
   "execution_count": null,
   "metadata": {},
   "outputs": [],
   "source": [
    "SS_BC = ...\n",
    "SS_BC"
   ]
  },
  {
   "cell_type": "code",
   "execution_count": null,
   "metadata": {},
   "outputs": [],
   "source": [
    "SS_ABC = ...\n",
    "SS_ABC"
   ]
  },
  {
   "cell_type": "code",
   "execution_count": null,
   "metadata": {},
   "outputs": [],
   "source": [
    "# sum of squares of the model\n",
    "SS_M = ...\n",
    "SS_M"
   ]
  },
  {
   "cell_type": "code",
   "execution_count": null,
   "metadata": {},
   "outputs": [],
   "source": [
    "overall_sum_squares_observations = ...\n",
    "overall_sum_squares_total = ...\n",
    "SST = overall_sum_squares_observations - overall_sum_squares_total\n",
    "SST"
   ]
  },
  {
   "cell_type": "code",
   "execution_count": null,
   "metadata": {},
   "outputs": [],
   "source": [
    "SSE = SST - SS_M\n",
    "SSE"
   ]
  },
  {
   "cell_type": "markdown",
   "metadata": {},
   "source": [
    "### Calculate Mean of Squares"
   ]
  },
  {
   "cell_type": "code",
   "execution_count": null,
   "metadata": {},
   "outputs": [],
   "source": [
    "# degrees of freedom, we have 2 replicates\n",
    "df_A = 1\n",
    "df_B = 1\n",
    "df_C = 1\n",
    "df_AB = 1\n",
    "df_AC = 1\n",
    "df_BC = 1\n",
    "df_ABC = 1\n",
    "\n",
    "df_T = N - 1\n",
    "df_E = df_T - (df_A + df_B + df_C + df_AB + df_AC + df_BC + df_ABC)"
   ]
  },
  {
   "cell_type": "code",
   "execution_count": null,
   "metadata": {},
   "outputs": [],
   "source": [
    "MS_A = ...\n",
    "MS_B = ...\n",
    "MS_C = ...\n",
    "MS_AB = ...\n",
    "MS_AC = ...\n",
    "MS_BC = ...\n",
    "MS_ABC = ...\n",
    "MSE = ...\n",
    "print(MS_A)\n",
    "print(MS_B)\n",
    "print(MS_C)\n",
    "print(MS_AB)\n",
    "print(MS_AC)\n",
    "print(MS_BC)\n",
    "print(MS_ABC)\n",
    "print(MSE)"
   ]
  },
  {
   "cell_type": "markdown",
   "metadata": {},
   "source": [
    "### Calculate F-statistics"
   ]
  },
  {
   "cell_type": "code",
   "execution_count": null,
   "metadata": {},
   "outputs": [],
   "source": [
    "F_A = ...\n",
    "F_B = ...\n",
    "F_C = ...\n",
    "F_AB = ...\n",
    "F_AC = ...\n",
    "F_BC = ...\n",
    "F_ABC = ...\n",
    "print(F_A)\n",
    "print(F_B)\n",
    "print(F_C)\n",
    "print(F_AB)\n",
    "print(F_AC)\n",
    "print(F_BC)\n",
    "print(F_ABC)"
   ]
  },
  {
   "cell_type": "markdown",
   "metadata": {},
   "source": [
    "### Calculate $p$-values"
   ]
  },
  {
   "cell_type": "code",
   "execution_count": null,
   "metadata": {},
   "outputs": [],
   "source": [
    "\n",
    "p_A = ...\n",
    "p_B = ...\n",
    "p_C = ...\n",
    "p_AB = ...\n",
    "p_AC = ...\n",
    "p_BC = ...\n",
    "p_ABC = ...\n",
    "print(p_A)\n",
    "print(p_B)\n",
    "print(p_C)\n",
    "print(p_AB)\n",
    "print(p_AC)\n",
    "print(p_BC)\n",
    "print(p_ABC)"
   ]
  },
  {
   "cell_type": "markdown",
   "metadata": {},
   "source": [
    "### Main Effect Results"
   ]
  },
  {
   "cell_type": "code",
   "execution_count": null,
   "metadata": {},
   "outputs": [],
   "source": [
    "SS_Main_Effects = ...\n",
    "df_Main_Effects = ...\n",
    "MS_Main_Effects = ...\n",
    "F_Main_Effects =...\n",
    "p_Main_Effects = ...\n",
    "print(\"SS Main Effects: \", SS_Main_Effects)\n",
    "print(\"MS Main Effects: \", MS_Main_Effects)\n",
    "print(\"F- Main Effects: \", F_Main_Effects)\n",
    "print(\"p-value Main Effects: \", p_Main_Effects)\n"
   ]
  },
  {
   "cell_type": "markdown",
   "metadata": {},
   "source": [
    "### Two-Way Interaction Results"
   ]
  },
  {
   "cell_type": "code",
   "execution_count": null,
   "metadata": {},
   "outputs": [],
   "source": [
    "SS_Two_Way_Interactions = ...\n",
    "df_Two_Way_Interactions = ...\n",
    "MS_Two_Way_Interactions = ...\n",
    "F_Two_Way_Interactions = ...\n",
    "p_Two_Way_Interactions = ...\n",
    "print(\"SS Two-Way Interaction Effects: \", SS_Two_Way_Interactions)\n",
    "print(\"MS Two-Way Interaction Effects: \", MS_Two_Way_Interactions)\n",
    "print(\"F- Two-Way Interaction Effects: \", F_Two_Way_Interactions)\n",
    "print(\"p-value Two-Way Interaction Effects: \", p_Two_Way_Interactions)"
   ]
  },
  {
   "cell_type": "markdown",
   "metadata": {},
   "source": [
    "### Three-Way Interaction Results"
   ]
  },
  {
   "cell_type": "code",
   "execution_count": null,
   "metadata": {},
   "outputs": [],
   "source": [
    "SS_Three_Way_Interactions = ...\n",
    "df_Three_Way_Interactions = ...\n",
    "MS_Three_Way_Interactions = ...\n",
    "F_Three_Way_Interactions = ...\n",
    "p_Three_Way_Interactions = ...\n",
    "print(\"SS Two-Way Interaction Effects: \", SS_Three_Way_Interactions)\n",
    "print(\"MS Two-Way Interaction Effects: \", MS_Three_Way_Interactions)\n",
    "print(\"F- Two-Way Interaction Effects: \", F_Three_Way_Interactions)\n",
    "print(\"p-value Two-Way Interaction Effects: \", p_Three_Way_Interactions)"
   ]
  },
  {
   "cell_type": "markdown",
   "metadata": {},
   "source": [
    "### Model Results"
   ]
  },
  {
   "cell_type": "code",
   "execution_count": null,
   "metadata": {},
   "outputs": [],
   "source": [
    "#sum of squares for the model --> SS_M \n",
    "# Let calculate the test statisctics for the model\n",
    "df_model = ... # degrees of freedom of the model\n",
    "MS_M = ...\n",
    "F_M = ...\n",
    "F_M"
   ]
  },
  {
   "cell_type": "code",
   "execution_count": null,
   "metadata": {},
   "outputs": [],
   "source": [
    "#Evaluate the model using R^2 and R^2_adj (adjusted R^2)\n",
    "R_square = ...\n",
    "R_square_adj = ...\n",
    "print(\"R^2 =\", R_square)\n",
    "print(\"R^2_adj =\", R_square_adj)\n"
   ]
  },
  {
   "cell_type": "markdown",
   "metadata": {},
   "source": [
    "### Write the Regression Model\n",
    "\n",
    "...\n"
   ]
  }
 ],
 "metadata": {
  "kernelspec": {
   "display_name": "new-env",
   "language": "python",
   "name": "python3"
  },
  "language_info": {
   "codemirror_mode": {
    "name": "ipython",
    "version": 3
   },
   "file_extension": ".py",
   "mimetype": "text/x-python",
   "name": "python",
   "nbconvert_exporter": "python",
   "pygments_lexer": "ipython3",
   "version": "3.11.10"
  }
 },
 "nbformat": 4,
 "nbformat_minor": 2
}
