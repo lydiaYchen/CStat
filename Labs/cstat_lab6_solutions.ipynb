{
 "cells": [
  {
   "cell_type": "code",
   "execution_count": 1,
   "metadata": {},
   "outputs": [],
   "source": [
    "import numpy as np \n",
    "import pandas as pd\n",
    "import scipy.stats as st\n",
    "import matplotlib.pyplot as plt\n",
    "import statsmodels.api as sm\n",
    "from statsmodels.formula.api import ols"
   ]
  },
  {
   "cell_type": "markdown",
   "metadata": {},
   "source": [
    "# $2^k$ Factorial Design and 2-level Fractional Factorial Designs"
   ]
  },
  {
   "cell_type": "markdown",
   "metadata": {},
   "source": [
    "A $2^3$ factorial design was used to develop a nitride etch process on a single-wafer plasma etching tool. The design\n",
    "factors are the gap between the electrodes, the gas flow ($C_2F_6$ is used as the reactant gas), and the RF power\n",
    "applied to the cathode. Each factor is run at two levels, and the design is replicated twice. The response variable is the etch rate for silicon nitride (Å/m). Do the followings:\n",
    "\n",
    "- Calculate the factor effects, sum of squares, mean squares, F-statistics and p-values. \n",
    "- Calculate sum of squares, mean squares, F-statistics and p-values for main effects, two-way interactions and three-way interactions.\n",
    "- Calculate the F-statiscs for the model and evaluate it using $R^2$.\n",
    "- Decide which factors are significant? Define a regression model with significant factors."
   ]
  },
  {
   "cell_type": "markdown",
   "metadata": {},
   "source": [
    "Factors are the following:\n",
    "- A: the gap between the electrodes\n",
    "- B: the gas flow\n",
    "- C: the RF power"
   ]
  },
  {
   "cell_type": "code",
   "execution_count": 2,
   "metadata": {},
   "outputs": [
    {
     "data": {
      "text/html": [
       "<div>\n",
       "<style scoped>\n",
       "    .dataframe tbody tr th:only-of-type {\n",
       "        vertical-align: middle;\n",
       "    }\n",
       "\n",
       "    .dataframe tbody tr th {\n",
       "        vertical-align: top;\n",
       "    }\n",
       "\n",
       "    .dataframe thead th {\n",
       "        text-align: right;\n",
       "    }\n",
       "</style>\n",
       "<table border=\"1\" class=\"dataframe\">\n",
       "  <thead>\n",
       "    <tr style=\"text-align: right;\">\n",
       "      <th></th>\n",
       "      <th>Run</th>\n",
       "      <th>A</th>\n",
       "      <th>B</th>\n",
       "      <th>C</th>\n",
       "      <th>Replicate 1</th>\n",
       "      <th>Replicate 2</th>\n",
       "      <th>Total</th>\n",
       "      <th>Factor_level_A</th>\n",
       "      <th>Factor_level_B</th>\n",
       "      <th>Factor_level_C</th>\n",
       "    </tr>\n",
       "  </thead>\n",
       "  <tbody>\n",
       "    <tr>\n",
       "      <th>0</th>\n",
       "      <td>1</td>\n",
       "      <td>-1</td>\n",
       "      <td>-1</td>\n",
       "      <td>-1</td>\n",
       "      <td>550</td>\n",
       "      <td>604</td>\n",
       "      <td>1154</td>\n",
       "      <td>0.8</td>\n",
       "      <td>125</td>\n",
       "      <td>275</td>\n",
       "    </tr>\n",
       "    <tr>\n",
       "      <th>1</th>\n",
       "      <td>2</td>\n",
       "      <td>1</td>\n",
       "      <td>-1</td>\n",
       "      <td>-1</td>\n",
       "      <td>669</td>\n",
       "      <td>650</td>\n",
       "      <td>1319</td>\n",
       "      <td>1.2</td>\n",
       "      <td>125</td>\n",
       "      <td>275</td>\n",
       "    </tr>\n",
       "    <tr>\n",
       "      <th>2</th>\n",
       "      <td>3</td>\n",
       "      <td>-1</td>\n",
       "      <td>1</td>\n",
       "      <td>-1</td>\n",
       "      <td>633</td>\n",
       "      <td>601</td>\n",
       "      <td>1234</td>\n",
       "      <td>0.8</td>\n",
       "      <td>200</td>\n",
       "      <td>275</td>\n",
       "    </tr>\n",
       "    <tr>\n",
       "      <th>3</th>\n",
       "      <td>4</td>\n",
       "      <td>1</td>\n",
       "      <td>1</td>\n",
       "      <td>-1</td>\n",
       "      <td>642</td>\n",
       "      <td>635</td>\n",
       "      <td>1277</td>\n",
       "      <td>1.2</td>\n",
       "      <td>200</td>\n",
       "      <td>275</td>\n",
       "    </tr>\n",
       "    <tr>\n",
       "      <th>4</th>\n",
       "      <td>5</td>\n",
       "      <td>-1</td>\n",
       "      <td>-1</td>\n",
       "      <td>1</td>\n",
       "      <td>1037</td>\n",
       "      <td>1052</td>\n",
       "      <td>2089</td>\n",
       "      <td>0.8</td>\n",
       "      <td>125</td>\n",
       "      <td>325</td>\n",
       "    </tr>\n",
       "    <tr>\n",
       "      <th>5</th>\n",
       "      <td>6</td>\n",
       "      <td>1</td>\n",
       "      <td>-1</td>\n",
       "      <td>1</td>\n",
       "      <td>749</td>\n",
       "      <td>868</td>\n",
       "      <td>1617</td>\n",
       "      <td>1.2</td>\n",
       "      <td>125</td>\n",
       "      <td>325</td>\n",
       "    </tr>\n",
       "    <tr>\n",
       "      <th>6</th>\n",
       "      <td>7</td>\n",
       "      <td>-1</td>\n",
       "      <td>1</td>\n",
       "      <td>1</td>\n",
       "      <td>1075</td>\n",
       "      <td>1063</td>\n",
       "      <td>2138</td>\n",
       "      <td>0.8</td>\n",
       "      <td>200</td>\n",
       "      <td>325</td>\n",
       "    </tr>\n",
       "    <tr>\n",
       "      <th>7</th>\n",
       "      <td>8</td>\n",
       "      <td>1</td>\n",
       "      <td>1</td>\n",
       "      <td>1</td>\n",
       "      <td>729</td>\n",
       "      <td>860</td>\n",
       "      <td>1589</td>\n",
       "      <td>1.2</td>\n",
       "      <td>200</td>\n",
       "      <td>325</td>\n",
       "    </tr>\n",
       "  </tbody>\n",
       "</table>\n",
       "</div>"
      ],
      "text/plain": [
       "   Run  A  B  C  Replicate 1  Replicate 2  Total  Factor_level_A  \\\n",
       "0    1 -1 -1 -1          550          604   1154             0.8   \n",
       "1    2  1 -1 -1          669          650   1319             1.2   \n",
       "2    3 -1  1 -1          633          601   1234             0.8   \n",
       "3    4  1  1 -1          642          635   1277             1.2   \n",
       "4    5 -1 -1  1         1037         1052   2089             0.8   \n",
       "5    6  1 -1  1          749          868   1617             1.2   \n",
       "6    7 -1  1  1         1075         1063   2138             0.8   \n",
       "7    8  1  1  1          729          860   1589             1.2   \n",
       "\n",
       "   Factor_level_B  Factor_level_C  \n",
       "0             125             275  \n",
       "1             125             275  \n",
       "2             200             275  \n",
       "3             200             275  \n",
       "4             125             325  \n",
       "5             125             325  \n",
       "6             200             325  \n",
       "7             200             325  "
      ]
     },
     "execution_count": 2,
     "metadata": {},
     "output_type": "execute_result"
    }
   ],
   "source": [
    "data = {\n",
    "    \"Run\": [1, 2, 3, 4, 5, 6, 7, 8],\n",
    "    \"A\": [-1, 1, -1, 1, -1, 1, -1, 1],\n",
    "    \"B\": [-1, -1, 1, 1, -1, -1, 1, 1],\n",
    "    \"C\": [-1, -1, -1, -1, 1, 1, 1, 1],\n",
    "    \"Replicate 1\": [550, 669, 633, 642, 1037, 749, 1075, 729],\n",
    "    \"Replicate 2\": [604, 650, 601, 635, 1052, 868, 1063, 860],\n",
    "    \"Total\": [1154, 1319, 1234, 1277, 2089, 1617, 2138, 1589],\n",
    "    \"Factor_level_A\": [0.80, 1.20, 0.80, 1.20, 0.80, 1.20, 0.80, 1.20],\n",
    "    \"Factor_level_B\": [125, 125, 200, 200, 125, 125, 200, 200],\n",
    "    \"Factor_level_C\": [275, 275, 275, 275, 325, 325, 325, 325]\n",
    "}\n",
    "\n",
    "df = pd.DataFrame(data)\n",
    "df\n"
   ]
  },
  {
   "cell_type": "code",
   "execution_count": 3,
   "metadata": {},
   "outputs": [
    {
     "data": {
      "text/plain": [
       "16"
      ]
     },
     "execution_count": 3,
     "metadata": {},
     "output_type": "execute_result"
    }
   ],
   "source": [
    "# number of replicates\n",
    "n = 2\n",
    "# number of factors\n",
    "k = 3\n",
    "# number of observations\n",
    "N = (2**3) * n\n",
    "N"
   ]
  },
  {
   "cell_type": "markdown",
   "metadata": {},
   "source": [
    "### Calculate Factor Effects"
   ]
  },
  {
   "cell_type": "code",
   "execution_count": 4,
   "metadata": {},
   "outputs": [],
   "source": [
    "treatment_comb_1 = df.loc[0, \"Total\"]\n",
    "a = df.loc[1, \"Total\"]\n",
    "b = df.loc[2, \"Total\"]\n",
    "ab = df.loc[3, \"Total\"]\n",
    "c = df.loc[4, \"Total\"]\n",
    "ac = df.loc[5, \"Total\"]\n",
    "bc = df.loc[6, \"Total\"]\n",
    "abc = df.loc[7, \"Total\"]"
   ]
  },
  {
   "cell_type": "code",
   "execution_count": 5,
   "metadata": {},
   "outputs": [
    {
     "data": {
      "text/plain": [
       "-101.625"
      ]
     },
     "execution_count": 5,
     "metadata": {},
     "output_type": "execute_result"
    }
   ],
   "source": [
    "A = (1 / (4 * n)) * (a +  ab + ac + abc - treatment_comb_1 - b - c - bc)\n",
    "A"
   ]
  },
  {
   "cell_type": "code",
   "execution_count": 6,
   "metadata": {},
   "outputs": [
    {
     "data": {
      "text/plain": [
       "7.375"
      ]
     },
     "execution_count": 6,
     "metadata": {},
     "output_type": "execute_result"
    }
   ],
   "source": [
    "B = (1 / (4 * n)) * (b + ab + bc + abc - treatment_comb_1 - a - c - ac)\n",
    "B"
   ]
  },
  {
   "cell_type": "code",
   "execution_count": 7,
   "metadata": {},
   "outputs": [
    {
     "data": {
      "text/plain": [
       "306.125"
      ]
     },
     "execution_count": 7,
     "metadata": {},
     "output_type": "execute_result"
    }
   ],
   "source": [
    "C = (1 / (4 * n)) * (c + ac + bc + abc - treatment_comb_1 - a - b - ab)\n",
    "C"
   ]
  },
  {
   "cell_type": "code",
   "execution_count": 8,
   "metadata": {},
   "outputs": [
    {
     "data": {
      "text/plain": [
       "-24.875"
      ]
     },
     "execution_count": 8,
     "metadata": {},
     "output_type": "execute_result"
    }
   ],
   "source": [
    "AB = (1 / (4 * n)) * (ab + abc + treatment_comb_1 - a - b + c - ac - bc)\n",
    "AB"
   ]
  },
  {
   "cell_type": "code",
   "execution_count": 9,
   "metadata": {},
   "outputs": [
    {
     "data": {
      "text/plain": [
       "-153.625"
      ]
     },
     "execution_count": 9,
     "metadata": {},
     "output_type": "execute_result"
    }
   ],
   "source": [
    "AC = (1 / (4 * n)) * (treatment_comb_1 - a + b - ab + abc  - c + ac - bc)\n",
    "AC"
   ]
  },
  {
   "cell_type": "code",
   "execution_count": 10,
   "metadata": {},
   "outputs": [
    {
     "data": {
      "text/plain": [
       "-2.125"
      ]
     },
     "execution_count": 10,
     "metadata": {},
     "output_type": "execute_result"
    }
   ],
   "source": [
    "BC = (1 / (4 * n)) * (treatment_comb_1 + a - b - ab - c - ac + bc + abc)\n",
    "BC"
   ]
  },
  {
   "cell_type": "code",
   "execution_count": 11,
   "metadata": {},
   "outputs": [
    {
     "data": {
      "text/plain": [
       "5.625"
      ]
     },
     "execution_count": 11,
     "metadata": {},
     "output_type": "execute_result"
    }
   ],
   "source": [
    "ABC = (1 / (4 * n)) * (abc - bc - ac + c - ab + b + a  - treatment_comb_1)\n",
    "ABC"
   ]
  },
  {
   "cell_type": "markdown",
   "metadata": {},
   "source": [
    "The largest effects are for power (C = 306.125), gap (A = -101.625), and the power–gap interaction (AC = -153.625)."
   ]
  },
  {
   "cell_type": "markdown",
   "metadata": {},
   "source": [
    "### Calculate Sum of Squares"
   ]
  },
  {
   "cell_type": "code",
   "execution_count": 12,
   "metadata": {},
   "outputs": [
    {
     "data": {
      "text/plain": [
       "41310.5625"
      ]
     },
     "execution_count": 12,
     "metadata": {},
     "output_type": "execute_result"
    }
   ],
   "source": [
    "# we have 2^3 design\n",
    "SS_A = (((2**3) * A) ** 2) / N\n",
    "SS_A"
   ]
  },
  {
   "cell_type": "code",
   "execution_count": 13,
   "metadata": {},
   "outputs": [
    {
     "data": {
      "text/plain": [
       "217.5625"
      ]
     },
     "execution_count": 13,
     "metadata": {},
     "output_type": "execute_result"
    }
   ],
   "source": [
    "SS_B = (((2**3) * B) ** 2) / N\n",
    "SS_B"
   ]
  },
  {
   "cell_type": "code",
   "execution_count": 14,
   "metadata": {},
   "outputs": [
    {
     "data": {
      "text/plain": [
       "374850.0625"
      ]
     },
     "execution_count": 14,
     "metadata": {},
     "output_type": "execute_result"
    }
   ],
   "source": [
    "SS_C = (((2**3) * C) ** 2) / N\n",
    "SS_C"
   ]
  },
  {
   "cell_type": "code",
   "execution_count": 15,
   "metadata": {},
   "outputs": [
    {
     "data": {
      "text/plain": [
       "2475.0625"
      ]
     },
     "execution_count": 15,
     "metadata": {},
     "output_type": "execute_result"
    }
   ],
   "source": [
    "SS_AB = (((2**3) * AB) ** 2) / N\n",
    "SS_AB"
   ]
  },
  {
   "cell_type": "code",
   "execution_count": 16,
   "metadata": {},
   "outputs": [
    {
     "data": {
      "text/plain": [
       "94402.5625"
      ]
     },
     "execution_count": 16,
     "metadata": {},
     "output_type": "execute_result"
    }
   ],
   "source": [
    "SS_AC = (((2**3) * AC) ** 2) / N\n",
    "SS_AC"
   ]
  },
  {
   "cell_type": "code",
   "execution_count": 17,
   "metadata": {},
   "outputs": [
    {
     "data": {
      "text/plain": [
       "18.0625"
      ]
     },
     "execution_count": 17,
     "metadata": {},
     "output_type": "execute_result"
    }
   ],
   "source": [
    "SS_BC = (((2**3) * BC) ** 2) / N\n",
    "SS_BC"
   ]
  },
  {
   "cell_type": "code",
   "execution_count": 18,
   "metadata": {},
   "outputs": [
    {
     "data": {
      "text/plain": [
       "126.5625"
      ]
     },
     "execution_count": 18,
     "metadata": {},
     "output_type": "execute_result"
    }
   ],
   "source": [
    "SS_ABC = (((2**3) * ABC) ** 2) / N\n",
    "SS_ABC"
   ]
  },
  {
   "cell_type": "code",
   "execution_count": 19,
   "metadata": {},
   "outputs": [
    {
     "data": {
      "text/plain": [
       "513400.4375"
      ]
     },
     "execution_count": 19,
     "metadata": {},
     "output_type": "execute_result"
    }
   ],
   "source": [
    "SS_M = SS_A + SS_B + SS_C + SS_AB + SS_AC + SS_BC + SS_ABC\n",
    "SS_M"
   ]
  },
  {
   "cell_type": "code",
   "execution_count": 20,
   "metadata": {},
   "outputs": [
    {
     "data": {
      "text/plain": [
       "10167789"
      ]
     },
     "execution_count": 20,
     "metadata": {},
     "output_type": "execute_result"
    }
   ],
   "source": [
    "overall_sum_squares_observations = np.sum(df[\"Replicate 1\"]**2) + np.sum(df[\"Replicate 2\"]**2) \n",
    "overall_sum_squares_observations"
   ]
  },
  {
   "cell_type": "code",
   "execution_count": 21,
   "metadata": {},
   "outputs": [
    {
     "data": {
      "text/plain": [
       "9636368.0625"
      ]
     },
     "execution_count": 21,
     "metadata": {},
     "output_type": "execute_result"
    }
   ],
   "source": [
    "overall_sum_squares_total = np.sum(df[\"Total\"])**2 / N\n",
    "overall_sum_squares_total"
   ]
  },
  {
   "cell_type": "code",
   "execution_count": 22,
   "metadata": {},
   "outputs": [
    {
     "data": {
      "text/plain": [
       "531420.9375"
      ]
     },
     "execution_count": 22,
     "metadata": {},
     "output_type": "execute_result"
    }
   ],
   "source": [
    "SST = overall_sum_squares_observations - overall_sum_squares_total\n",
    "SST"
   ]
  },
  {
   "cell_type": "code",
   "execution_count": 23,
   "metadata": {},
   "outputs": [
    {
     "data": {
      "text/plain": [
       "18020.5"
      ]
     },
     "execution_count": 23,
     "metadata": {},
     "output_type": "execute_result"
    }
   ],
   "source": [
    "SSE = SST - SS_M\n",
    "SSE"
   ]
  },
  {
   "cell_type": "code",
   "execution_count": 24,
   "metadata": {},
   "outputs": [
    {
     "data": {
      "text/plain": [
       "8"
      ]
     },
     "execution_count": 24,
     "metadata": {},
     "output_type": "execute_result"
    }
   ],
   "source": [
    "# degrees of freedom\n",
    "df_A = 1\n",
    "df_B = 1\n",
    "df_C = 1\n",
    "df_AB = 1\n",
    "df_AC = 1\n",
    "df_BC = 1\n",
    "df_ABC = 1\n",
    "\n",
    "df_T = N - 1\n",
    "df_E = df_T - (df_A + df_B + df_C + df_AB + df_AC + df_BC + df_ABC)\n",
    "df_E"
   ]
  },
  {
   "cell_type": "code",
   "execution_count": 25,
   "metadata": {},
   "outputs": [
    {
     "name": "stdout",
     "output_type": "stream",
     "text": [
      "41310.5625\n",
      "217.5625\n",
      "374850.0625\n",
      "2475.0625\n",
      "94402.5625\n",
      "18.0625\n",
      "126.5625\n",
      "2252.5625\n"
     ]
    }
   ],
   "source": [
    "MS_A = SS_A / df_A\n",
    "MS_B = SS_B / df_B\n",
    "MS_C = SS_C / df_C\n",
    "MS_AB = SS_AB / df_AB\n",
    "MS_AC = SS_AC / df_AC\n",
    "MS_BC = SS_BC / df_BC\n",
    "MS_ABC = SS_ABC / df_ABC\n",
    "MSE = SSE / df_E\n",
    "print(MS_A)\n",
    "print(MS_B)\n",
    "print(MS_C)\n",
    "print(MS_AB)\n",
    "print(MS_AC)\n",
    "print(MS_BC)\n",
    "print(MS_ABC)\n",
    "print(MSE)"
   ]
  },
  {
   "cell_type": "code",
   "execution_count": 26,
   "metadata": {},
   "outputs": [
    {
     "name": "stdout",
     "output_type": "stream",
     "text": [
      "18.339363502677507\n",
      "0.09658444549263338\n",
      "166.41050470297716\n",
      "1.0987763935517882\n",
      "41.908964790100164\n",
      "0.008018645431591798\n",
      "0.05618601037707056\n"
     ]
    }
   ],
   "source": [
    "F_A = MS_A / MSE\n",
    "F_B = MS_B / MSE\n",
    "F_C = MS_C / MSE\n",
    "F_AB = MS_AB / MSE\n",
    "F_AC = MS_AC / MSE\n",
    "F_BC = MS_BC / MSE\n",
    "F_ABC = MS_ABC / MSE\n",
    "print(F_A)\n",
    "print(F_B)\n",
    "print(F_C)\n",
    "print(F_AB)\n",
    "print(F_AC)\n",
    "print(F_BC)\n",
    "print(F_ABC)"
   ]
  },
  {
   "cell_type": "code",
   "execution_count": 27,
   "metadata": {},
   "outputs": [
    {
     "name": "stdout",
     "output_type": "stream",
     "text": [
      "0.0026786104709705105\n",
      "0.7639107082242295\n",
      "1.2332619993005167e-06\n",
      "0.3251678561221075\n",
      "0.00019339576675891923\n",
      "0.9308485642080176\n",
      "0.8185860578539552\n"
     ]
    }
   ],
   "source": [
    "\n",
    "p_A = 1 - st.f.cdf(F_A, df_A, df_E)\n",
    "p_B = 1 - st.f.cdf(F_B, df_B, df_E)\n",
    "p_C = 1 - st.f.cdf(F_C, df_C, df_E)\n",
    "p_AB = 1 - st.f.cdf(F_AB, df_AB, df_E)\n",
    "p_AC = 1 - st.f.cdf(F_AC, df_AC, df_E)\n",
    "p_BC = 1 - st.f.cdf(F_BC, df_BC, df_E)\n",
    "p_ABC = 1 - st.f.cdf(F_ABC, df_ABC, df_E)\n",
    "print(p_A)\n",
    "print(p_B)\n",
    "print(p_C)\n",
    "print(p_AB)\n",
    "print(p_AC)\n",
    "print(p_BC)\n",
    "print(p_ABC)"
   ]
  },
  {
   "cell_type": "code",
   "execution_count": 28,
   "metadata": {},
   "outputs": [
    {
     "name": "stdout",
     "output_type": "stream",
     "text": [
      "SS Main Effects:  416378.1875\n",
      "MS Main Effects:  138792.72916666666\n",
      "F- Main Effects:  61.615484217049094\n",
      "p-value Main Effects:  7.166093880295321e-06\n"
     ]
    }
   ],
   "source": [
    "# Main Effects \n",
    "SS_Main_Effects = SS_A + SS_B + SS_C\n",
    "df_Main_Effects = 3\n",
    "MS_Main_Effects = SS_Main_Effects / df_Main_Effects\n",
    "F_Main_Effects = MS_Main_Effects / MSE\n",
    "p_Main_Effects = 1 - st.f.cdf(F_Main_Effects, df_Main_Effects, df_E)\n",
    "print(\"SS Main Effects: \", SS_Main_Effects)\n",
    "print(\"MS Main Effects: \", MS_Main_Effects)\n",
    "print(\"F- Main Effects: \", F_Main_Effects)\n",
    "print(\"p-value Main Effects: \", p_Main_Effects)\n"
   ]
  },
  {
   "cell_type": "code",
   "execution_count": 29,
   "metadata": {},
   "outputs": [
    {
     "name": "stdout",
     "output_type": "stream",
     "text": [
      "SS Two-Way Interaction Effects:  96895.6875\n",
      "MS Two-Way Interaction Effects:  32298.5625\n",
      "F- Two-Way Interaction Effects:  14.338586609694515\n",
      "p-value Two-Way Interaction Effects:  0.0013915191459764609\n"
     ]
    }
   ],
   "source": [
    "# Two-Way Interaction Effects \n",
    "SS_Two_Way_Interactions = SS_AB + SS_AC + SS_BC\n",
    "df_Two_Way_Interactions = 3\n",
    "MS_Two_Way_Interactions = SS_Two_Way_Interactions / df_Two_Way_Interactions\n",
    "F_Two_Way_Interactions = MS_Two_Way_Interactions / MSE\n",
    "p_Two_Way_Interactions = 1 - st.f.cdf(F_Two_Way_Interactions, df_Two_Way_Interactions, df_E)\n",
    "print(\"SS Two-Way Interaction Effects: \", SS_Two_Way_Interactions)\n",
    "print(\"MS Two-Way Interaction Effects: \", MS_Two_Way_Interactions)\n",
    "print(\"F- Two-Way Interaction Effects: \", F_Two_Way_Interactions)\n",
    "print(\"p-value Two-Way Interaction Effects: \", p_Two_Way_Interactions)"
   ]
  },
  {
   "cell_type": "code",
   "execution_count": 30,
   "metadata": {},
   "outputs": [
    {
     "name": "stdout",
     "output_type": "stream",
     "text": [
      "SS Two-Way Interaction Effects:  126.5625\n",
      "MS Two-Way Interaction Effects:  126.5625\n",
      "F- Two-Way Interaction Effects:  0.05618601037707056\n",
      "p-value Two-Way Interaction Effects:  0.8185860578539552\n"
     ]
    }
   ],
   "source": [
    "# Three-Way Interaction Effects \n",
    "SS_Three_Way_Interactions = SS_ABC\n",
    "df_Three_Way_Interactions = 1\n",
    "MS_Three_Way_Interactions = SS_Three_Way_Interactions / df_Three_Way_Interactions\n",
    "F_Three_Way_Interactions = MS_Three_Way_Interactions / MSE\n",
    "p_Three_Way_Interactions = 1 - st.f.cdf(F_Three_Way_Interactions, df_Three_Way_Interactions, df_E)\n",
    "print(\"SS Two-Way Interaction Effects: \", SS_Three_Way_Interactions)\n",
    "print(\"MS Two-Way Interaction Effects: \", MS_Three_Way_Interactions)\n",
    "print(\"F- Two-Way Interaction Effects: \", F_Three_Way_Interactions)\n",
    "print(\"p-value Two-Way Interaction Effects: \", p_Three_Way_Interactions)"
   ]
  },
  {
   "cell_type": "code",
   "execution_count": 31,
   "metadata": {},
   "outputs": [
    {
     "data": {
      "text/plain": [
       "32.55977121294399"
      ]
     },
     "execution_count": 31,
     "metadata": {},
     "output_type": "execute_result"
    }
   ],
   "source": [
    "#sum of squares for the model --> SS_M \n",
    "# Let calculate the test statisctics for the model\n",
    "df_model = 7 # degrees of freedom of the model\n",
    "MS_M = SS_M / df_model\n",
    "F_M = MS_M / MSE\n",
    "F_M"
   ]
  },
  {
   "cell_type": "code",
   "execution_count": 32,
   "metadata": {},
   "outputs": [
    {
     "name": "stdout",
     "output_type": "stream",
     "text": [
      "R^2 = 0.9660899698743992\n",
      "R^2_adj = 0.9364186935144986\n"
     ]
    }
   ],
   "source": [
    "#Evaluate the model using R^2 and R^2_adj (adjusted R^2)\n",
    "R_square = SS_M / SST\n",
    "R_square_adj = 1 - ((SSE / df_E) / (SST / df_T))\n",
    "print(\"R^2 =\", R_square)\n",
    "print(\"R^2_adj =\", R_square_adj)\n"
   ]
  },
  {
   "cell_type": "markdown",
   "metadata": {},
   "source": [
    "### Regression Model\n",
    "\n",
    "We already have $p$-values for each factor effect and interaction effects. The factor effects which have $p<0.05$ is significant for the model. These are A, C and AC.\n",
    "\n",
    "Therefore, the model is\n",
    "$$ y = \\beta_0 + \\beta_1 x_1 + \\beta_3 x_3 + \\beta_{13} x_1 x_3 $$\n",
    "\n",
    "When put the parameters into the model above, we get\n",
    "\n",
    "$$ y = \\beta_0 + (\\frac{-101.625}{2}) x_1 + (\\frac{306.125}{2}) x_3 + (\\frac{-153.625}{2}) x_1 x_3 $$"
   ]
  },
  {
   "cell_type": "code",
   "execution_count": null,
   "metadata": {},
   "outputs": [],
   "source": []
  }
 ],
 "metadata": {
  "kernelspec": {
   "display_name": "new-env",
   "language": "python",
   "name": "python3"
  },
  "language_info": {
   "codemirror_mode": {
    "name": "ipython",
    "version": 3
   },
   "file_extension": ".py",
   "mimetype": "text/x-python",
   "name": "python",
   "nbconvert_exporter": "python",
   "pygments_lexer": "ipython3",
   "version": "3.11.10"
  }
 },
 "nbformat": 4,
 "nbformat_minor": 2
}
