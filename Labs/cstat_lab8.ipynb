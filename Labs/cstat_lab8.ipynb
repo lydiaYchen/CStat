{
 "cells": [
  {
   "cell_type": "markdown",
   "id": "0c5e409e",
   "metadata": {},
   "source": [
    "# CSTAT Lab #8\n",
    "This is the eighth lab of the computaitonal statistics course, covering ARIMA models, seasonal ARIMA models and forecasting. "
   ]
  },
  {
   "cell_type": "code",
   "execution_count": null,
   "id": "2c314afd",
   "metadata": {},
   "outputs": [],
   "source": [
    "# Import necessary libraries \n",
    "import numpy as np\n",
    "import pandas as pd\n",
    "import matplotlib.pyplot as plt\n",
    "import statsmodels.api as sm"
   ]
  },
  {
   "cell_type": "code",
   "execution_count": null,
   "id": "b7634f36",
   "metadata": {},
   "outputs": [],
   "source": [
    "air_data = sm.datasets.get_rdataset(\"AirPassengers\", \"datasets\", cache=True).data\n",
    "df_air = air_data.copy()\n",
    "start_year = int(df_air['time'].iloc[0])\n",
    "n_points = len(df_air)\n",
    "df_air.index = pd.date_range(start=f\"{start_year}-01\", periods=n_points, freq=\"ME\")\n",
    "df_air.drop(columns='time', inplace=True, errors='ignore')\n",
    "df_air.columns = ['AirPassengers']\n",
    "df_air.index.name = 'Date'\n",
    "\n",
    "plt.figure(figsize=(10, 4))\n",
    "plt.plot(df_air, label='Air Passengers', marker='o', linestyle='-', color='blue')\n",
    "plt.grid(True, alpha=0.3)\n",
    "plt.title('Monthly Air Passengers')\n",
    "plt.xlabel('Date')\n",
    "plt.ylabel('Number of Passengers')\n",
    "plt.legend()\n",
    "plt.show()\n"
   ]
  },
  {
   "cell_type": "markdown",
   "id": "bf976aa9",
   "metadata": {},
   "source": [
    "Returning to the air passengers dataset from Lab 7, we will attempt to model this time series. \n",
    "Starting with differencing, to find out if our series contains seasonality or a trend. Difference the time series once and check if the (linear) trend is removed by getting the p-value of the linear regression coefficient. "
   ]
  },
  {
   "cell_type": "code",
   "execution_count": null,
   "id": "cd38a844",
   "metadata": {},
   "outputs": [],
   "source": [
    "# First difference of Air Passengers data\n",
    "df_air_diff = ...\n",
    "df_air_diff = df_air.dropna()\n",
    "\n",
    "# Plot first differenced series\n",
    "plt.figure(figsize=(10, 4))\n",
    "plt.plot(df_air_diff, label='First Difference', marker='o', linestyle='-', color='blue')\n",
    "plt.grid(True, alpha=0.3)\n",
    "plt.title('First Difference of Air Passengers')\n",
    "plt.xlabel('Date')\n",
    "plt.ylabel('Differenced Passengers')\n",
    "plt.legend()\n",
    "plt.show()\n",
    "\n",
    "\n",
    "# Linear regression for original series\n",
    "X_orig = ...\n",
    "X_orig_const = ...\n",
    "model_orig = ...\n",
    "original_p_values = model_orig.pvalues[1]\n",
    "print(f\"Original series trend p-value: {original_p_values:.4f}\")\n",
    "\n",
    "# Linear regression for first differenced series\n",
    "X_diff = ...\n",
    "X_diff_const = ...\n",
    "model_diff = ...\n",
    "differenced_p_values = model_diff.pvalues[1]\n",
    "print(f\"First differenced series trend p-value: {differenced_p_values:.4f}\")"
   ]
  },
  {
   "cell_type": "markdown",
   "id": "a06eebf7",
   "metadata": {},
   "source": [
    "Let us move on to the seasonal component, identify the period in months from the overall time series graph.\n",
    "\n",
    "Write out the formula for the combined differenced $(1-B)(1-B^{period})X_t = ...$ \n",
    "\n",
    "Compute the combined difference manually using the above formula in the code below."
   ]
  },
  {
   "cell_type": "code",
   "execution_count": null,
   "id": "e49ec0de",
   "metadata": {},
   "outputs": [],
   "source": [
    "combined_diff = ...\n",
    "combined_diff = combined_diff.dropna()\n",
    "\n",
    "plt.figure(figsize=(10, 4))\n",
    "plt.plot(combined_diff, label='Seasonal & First Difference', marker='o', linestyle='-', color='blue')\n",
    "plt.grid(True, alpha=0.3)\n",
    "plt.title('First and Seasonal Difference of Air Passengers')\n",
    "plt.xlabel('Date')\n",
    "plt.ylabel('Differenced Passengers')\n",
    "plt.legend()\n",
    "plt.show()\n"
   ]
  },
  {
   "cell_type": "markdown",
   "id": "87434be1",
   "metadata": {},
   "source": [
    "Does our first differenced (trend removal) and period differenced (seasonality removal) series resemble white noise? \n",
    "Plot the ACF and PACF of the combined differenced series and verify if there is any remaining structure in the data. "
   ]
  },
  {
   "cell_type": "code",
   "execution_count": null,
   "id": "163ae19b",
   "metadata": {},
   "outputs": [],
   "source": [
    "from statsmodels.graphics.tsaplots import plot_acf, plot_pacf\n",
    "import matplotlib.pyplot as plt\n",
    "\n",
    "fig, axes = plt.subplots(1, 2, figsize=(16, 4))\n",
    "\n",
    "# ACF plot\n",
    "...\n",
    "axes[0].set_title('ACF of Combined Differenced Series')\n",
    "axes[0].grid(True, alpha=0.3)\n",
    "\n",
    "# PACF plot\n",
    "...\n",
    "axes[1].set_title('PACF of Combined Differenced Series')\n",
    "axes[1].grid(True, alpha=0.3)\n",
    "\n",
    "plt.tight_layout()\n",
    "plt.show()\n",
    "\n"
   ]
  },
  {
   "cell_type": "markdown",
   "id": "207fc988",
   "metadata": {},
   "source": [
    "Next, plot the ACF and PACF of the original Air Passengers time series. "
   ]
  },
  {
   "cell_type": "code",
   "execution_count": null,
   "id": "be40ceef",
   "metadata": {},
   "outputs": [],
   "source": [
    "fig, axes = plt.subplots(1, 2, figsize=(16, 4))\n",
    "\n",
    "# ACF plot\n",
    "...\n",
    "axes[0].set_title('ACF of Air Passengers')\n",
    "axes[0].grid(True, alpha=0.3)\n",
    "\n",
    "# PACF plot\n",
    "...\n",
    "axes[1].set_title('PACF of Air Passengers')\n",
    "axes[1].grid(True, alpha=0.3)\n",
    "\n",
    "plt.tight_layout()\n",
    "plt.show()\n",
    "\n"
   ]
  },
  {
   "cell_type": "markdown",
   "id": "ab419102",
   "metadata": {},
   "source": [
    "Determine what ARIMA models would fit this data, so determine p,d,q for ARIMA(p,d,q), without considering seasonality by inspecting the ACF and PACF.\n"
   ]
  },
  {
   "cell_type": "markdown",
   "id": "b834d59a",
   "metadata": {},
   "source": [
    "Fit the ARIMA models and plot their residuals, residual ACF and PACFs. "
   ]
  },
  {
   "cell_type": "code",
   "execution_count": null,
   "id": "e07d0a74",
   "metadata": {},
   "outputs": [],
   "source": [
    "from statsmodels.tsa.arima.model import ARIMA\n",
    "import statsmodels.api as sm\n",
    "import matplotlib.pyplot as plt\n",
    "\n",
    "# Fit model\n",
    "model_arima_1 = ARIMA(df_air['AirPassengers'], order=...\n",
    "                      , trend='n').fit()\n",
    "resid_1 = model_arima_1.resid.dropna()\n",
    "\n",
    "# Possibly fit a second model with different parameters\n",
    "model_arima_2 = ARIMA(df_air['AirPassengers'], order=...\n",
    "                      , trend='n').fit()\n",
    "resid_2 = model_arima_2.resid.dropna()\n",
    "\n",
    "# Plot residuals, ACF and PACF\n",
    "...\n",
    "\n",
    "# Print summary of the fitted model \n"
   ]
  },
  {
   "cell_type": "markdown",
   "id": "7b4a6ac6",
   "metadata": {},
   "source": [
    "See if you can determine which of the models fits the data best from the model summary based upon the criteria mentioned in the lecture:\n",
    "1. Significance of coefficients\n",
    "2. ACF of residuals\n",
    "3. Box-Pierce (Ljung) tests"
   ]
  },
  {
   "cell_type": "markdown",
   "id": "0a44c69f",
   "metadata": {},
   "source": [
    "Next, we integrate the seasonality in our model by adding a seasonal component (SARIMA) and comparing the models.\n",
    "\n",
    "Search for the best SARIMA model using your ARIMA(p,d,q) model above. \n",
    "\n",
    "So for your $ARIMA(p,d,q)$, find $(p_s,d_s,q_s)$ in $SARIMA(p,d,q)(p_s,d_s,q_s,period)$ by searching over the possible seasonal orders in the code below and plugging in your ARIMA order in the for-loop. "
   ]
  },
  {
   "cell_type": "code",
   "execution_count": null,
   "id": "e0b925d2",
   "metadata": {},
   "outputs": [],
   "source": [
    "from statsmodels.tsa.statespace.sarimax import SARIMAX\n",
    "seasonal_orders = [\n",
    "    (1, 1, 0, 12),  # seasonal AR(1), seasonal differencing, seasonal MA(0)\n",
    "    ...,\n",
    "    ...\n",
    "]\n",
    "\n",
    "for s_order in seasonal_orders:\n",
    "    model = SARIMAX(df_air['AirPassengers'],\n",
    "                    order=...,\n",
    "                    seasonal_order=s_order,\n",
    "                    enforce_stationarity=False,\n",
    "                    enforce_invertibility=False).fit(disp=False)\n",
    "    \n",
    "    print(f\"Seasonal order: {s_order} → AIC: {model.aic:.2f}\")\n",
    "    print(f\"All coefficients significant: {all(model.pvalues < 0.05)}\")\n",
    "\n"
   ]
  },
  {
   "cell_type": "markdown",
   "id": "68954b38",
   "metadata": {},
   "source": [
    "Finally, we do a 'horserace' with our viable models. In the code block below, create lists of the likely ARIMA and seasonal orders. \n",
    "Also plug in the formula for the forecast error. "
   ]
  },
  {
   "cell_type": "code",
   "execution_count": null,
   "id": "03846091",
   "metadata": {},
   "outputs": [],
   "source": [
    "import pandas as pd\n",
    "import numpy as np\n",
    "import matplotlib.pyplot as plt\n",
    "from statsmodels.tsa.statespace.sarimax import SARIMAX\n",
    "\n",
    "# Split dataset\n",
    "n = len(df_air)\n",
    "split = int(n * 0.8)  # 80% for training, 20% for testing\n",
    "train = df_air.iloc[:split]\n",
    "test = df_air.iloc[split:]\n",
    "\n",
    "# Specify combinations\n",
    "non_seasonal_orders = [\n",
    "    ...,\n",
    "    ...\n",
    "]\n",
    "\n",
    "seasonal_orders = [\n",
    "    ...,\n",
    "    ...\n",
    "]\n",
    "\n",
    "# Dictionary to hold results\n",
    "results = {}\n",
    "\n",
    "# Loop over combinations\n",
    "for ns_order in non_seasonal_orders:\n",
    "    for s_order in seasonal_orders:\n",
    "        label = f'ARIMA{ns_order} x SARIMA{s_order}'\n",
    "        preds = []\n",
    "        actuals = []\n",
    "        history = train.copy()\n",
    "\n",
    "        for t in range(len(test)):\n",
    "            model = SARIMAX(history,\n",
    "                            order=ns_order,\n",
    "                            seasonal_order=s_order,\n",
    "                            enforce_stationarity=False,\n",
    "                            enforce_invertibility=False).fit(disp=False)\n",
    "\n",
    "            forecast = model.forecast(steps=1).iloc[0]\n",
    "            actual = test['AirPassengers'].iloc[t]\n",
    "\n",
    "            preds.append(forecast)\n",
    "            actuals.append(actual)\n",
    "\n",
    "            # Update history with actual\n",
    "            history = pd.concat([history, test.iloc[[t]]])\n",
    "\n",
    "        errors = ...\n",
    "        var_error = ...\n",
    "\n",
    "        results[label] = {\n",
    "            'Forecasts': preds,\n",
    "            'Actuals': actuals,\n",
    "            'Errors': errors,\n",
    "            'Variance of Forecast Error': var_error\n",
    "        }\n",
    "\n",
    "# Create summary DataFrame and get best two models\n",
    "summary_df = pd.DataFrame([\n",
    "    {'Model': name, 'Forecast Error Variance': res['Variance of Forecast Error']}\n",
    "    for name, res in results.items()\n",
    "]).sort_values('Forecast Error Variance').reset_index(drop=True)\n",
    "\n",
    "print(summary_df)\n",
    "\n",
    "# Plot only top 2 models\n",
    "for name in summary_df['Model'][:2]:\n",
    "    res = results[name]\n",
    "    plt.figure(figsize=(10, 4))\n",
    "    plt.plot(test.index, res['Actuals'], label='Actual', color='black')\n",
    "    plt.plot(test.index, res['Forecasts'], label=f'Forecast: {name}', linestyle='--')\n",
    "    plt.title(f'Forecast vs Actuals\\n{name}')\n",
    "    plt.xlabel('Date')\n",
    "    plt.ylabel('AirPassengers')\n",
    "    plt.legend()\n",
    "    plt.grid(True, alpha=0.3)\n",
    "    plt.tight_layout()\n",
    "    plt.show()\n",
    "\n"
   ]
  },
  {
   "cell_type": "markdown",
   "id": "a7e071a9",
   "metadata": {},
   "source": [
    "Determine the best model in terms of forecast error. "
   ]
  }
 ],
 "metadata": {
  "kernelspec": {
   "display_name": ".venv",
   "language": "python",
   "name": "python3"
  },
  "language_info": {
   "codemirror_mode": {
    "name": "ipython",
    "version": 3
   },
   "file_extension": ".py",
   "mimetype": "text/x-python",
   "name": "python",
   "nbconvert_exporter": "python",
   "pygments_lexer": "ipython3",
   "version": "3.11.9"
  }
 },
 "nbformat": 4,
 "nbformat_minor": 5
}
