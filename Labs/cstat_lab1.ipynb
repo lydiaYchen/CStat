{
 "cells": [
  {
   "cell_type": "markdown",
   "id": "7848121e",
   "metadata": {},
   "source": [
    "# CSTAT - Lab #1"
   ]
  },
  {
   "cell_type": "markdown",
   "id": "89805d4b",
   "metadata": {},
   "source": [
    "This is the first lab for the course of computational statistics. the topic of this session is computing estimators for mean and variance."
   ]
  },
  {
   "cell_type": "code",
   "execution_count": 1,
   "id": "0b8239e8",
   "metadata": {},
   "outputs": [],
   "source": [
    "import pandas as pd\n",
    "import matplotlib.pyplot as plt\n",
    "import numpy as np\n",
    "from scipy.stats import norm, expon"
   ]
  },
  {
   "cell_type": "markdown",
   "id": "39c11bf1",
   "metadata": {},
   "source": [
    "For this lab and the nexts to come, we will be working on the data provided by the tpg transport system. The database contains year-round data on the amount of people getting on/off at each station of the network over the course of one day."
   ]
  },
  {
   "cell_type": "code",
   "execution_count": 2,
   "id": "00ac1c79",
   "metadata": {
    "scrolled": true
   },
   "outputs": [
    {
     "data": {
      "text/html": [
       "<div>\n",
       "<style scoped>\n",
       "    .dataframe tbody tr th:only-of-type {\n",
       "        vertical-align: middle;\n",
       "    }\n",
       "\n",
       "    .dataframe tbody tr th {\n",
       "        vertical-align: top;\n",
       "    }\n",
       "\n",
       "    .dataframe thead th {\n",
       "        text-align: right;\n",
       "    }\n",
       "</style>\n",
       "<table border=\"1\" class=\"dataframe\">\n",
       "  <thead>\n",
       "    <tr style=\"text-align: right;\">\n",
       "      <th></th>\n",
       "      <th>Date</th>\n",
       "      <th>Ligne</th>\n",
       "      <th>Ligne Type</th>\n",
       "      <th>Jour Semaine</th>\n",
       "      <th>Horaire Type</th>\n",
       "      <th>Arrêt</th>\n",
       "      <th>Arrêt Code Long</th>\n",
       "      <th>Indice Semaine</th>\n",
       "      <th>Indice Jour Semaine</th>\n",
       "      <th>Nombre de Montées</th>\n",
       "      <th>Nombre de Descentes</th>\n",
       "      <th>Mois Annee</th>\n",
       "    </tr>\n",
       "  </thead>\n",
       "  <tbody>\n",
       "    <tr>\n",
       "      <th>0</th>\n",
       "      <td>2024-12-03</td>\n",
       "      <td>1</td>\n",
       "      <td>PRINCIPAL</td>\n",
       "      <td>2-Mardi</td>\n",
       "      <td>NORMAL</td>\n",
       "      <td>Belle-Idée-Centre</td>\n",
       "      <td>BLID00</td>\n",
       "      <td>49</td>\n",
       "      <td>2</td>\n",
       "      <td>118.05</td>\n",
       "      <td>5.06</td>\n",
       "      <td>2024-12</td>\n",
       "    </tr>\n",
       "    <tr>\n",
       "      <th>1</th>\n",
       "      <td>2024-12-03</td>\n",
       "      <td>1</td>\n",
       "      <td>PRINCIPAL</td>\n",
       "      <td>2-Mardi</td>\n",
       "      <td>NORMAL</td>\n",
       "      <td>Belle-Idée-Réception</td>\n",
       "      <td>BISA01</td>\n",
       "      <td>49</td>\n",
       "      <td>2</td>\n",
       "      <td>3.96</td>\n",
       "      <td>70.58</td>\n",
       "      <td>2024-12</td>\n",
       "    </tr>\n",
       "    <tr>\n",
       "      <th>2</th>\n",
       "      <td>2024-12-03</td>\n",
       "      <td>1</td>\n",
       "      <td>PRINCIPAL</td>\n",
       "      <td>2-Mardi</td>\n",
       "      <td>NORMAL</td>\n",
       "      <td>Ch. de l'Eperon</td>\n",
       "      <td>CEPR99</td>\n",
       "      <td>49</td>\n",
       "      <td>2</td>\n",
       "      <td>349.06</td>\n",
       "      <td>111.60</td>\n",
       "      <td>2024-12</td>\n",
       "    </tr>\n",
       "    <tr>\n",
       "      <th>3</th>\n",
       "      <td>2024-12-03</td>\n",
       "      <td>1</td>\n",
       "      <td>PRINCIPAL</td>\n",
       "      <td>2-Mardi</td>\n",
       "      <td>NORMAL</td>\n",
       "      <td>Chêne-Bougeries, Gradelle</td>\n",
       "      <td>GRDL01</td>\n",
       "      <td>49</td>\n",
       "      <td>2</td>\n",
       "      <td>277.34</td>\n",
       "      <td>83.78</td>\n",
       "      <td>2024-12</td>\n",
       "    </tr>\n",
       "    <tr>\n",
       "      <th>4</th>\n",
       "      <td>2024-12-03</td>\n",
       "      <td>1</td>\n",
       "      <td>PRINCIPAL</td>\n",
       "      <td>2-Mardi</td>\n",
       "      <td>NORMAL</td>\n",
       "      <td>Cirque</td>\n",
       "      <td>CIRQ00</td>\n",
       "      <td>49</td>\n",
       "      <td>2</td>\n",
       "      <td>695.15</td>\n",
       "      <td>677.48</td>\n",
       "      <td>2024-12</td>\n",
       "    </tr>\n",
       "  </tbody>\n",
       "</table>\n",
       "</div>"
      ],
      "text/plain": [
       "         Date Ligne Ligne Type Jour Semaine Horaire Type  \\\n",
       "0  2024-12-03     1  PRINCIPAL      2-Mardi       NORMAL   \n",
       "1  2024-12-03     1  PRINCIPAL      2-Mardi       NORMAL   \n",
       "2  2024-12-03     1  PRINCIPAL      2-Mardi       NORMAL   \n",
       "3  2024-12-03     1  PRINCIPAL      2-Mardi       NORMAL   \n",
       "4  2024-12-03     1  PRINCIPAL      2-Mardi       NORMAL   \n",
       "\n",
       "                       Arrêt Arrêt Code Long  Indice Semaine  \\\n",
       "0          Belle-Idée-Centre          BLID00              49   \n",
       "1       Belle-Idée-Réception          BISA01              49   \n",
       "2            Ch. de l'Eperon          CEPR99              49   \n",
       "3  Chêne-Bougeries, Gradelle          GRDL01              49   \n",
       "4                     Cirque          CIRQ00              49   \n",
       "\n",
       "   Indice Jour Semaine  Nombre de Montées  Nombre de Descentes Mois Annee  \n",
       "0                    2             118.05                 5.06    2024-12  \n",
       "1                    2               3.96                70.58    2024-12  \n",
       "2                    2             349.06               111.60    2024-12  \n",
       "3                    2             277.34                83.78    2024-12  \n",
       "4                    2             695.15               677.48    2024-12  "
      ]
     },
     "execution_count": 2,
     "metadata": {},
     "output_type": "execute_result"
    }
   ],
   "source": [
    "df = pd.read_pickle(\"tpg_data.zip\")\n",
    "df.head()"
   ]
  },
  {
   "cell_type": "code",
   "execution_count": 3,
   "id": "9c67668d",
   "metadata": {},
   "outputs": [
    {
     "data": {
      "text/html": [
       "<div>\n",
       "<style scoped>\n",
       "    .dataframe tbody tr th:only-of-type {\n",
       "        vertical-align: middle;\n",
       "    }\n",
       "\n",
       "    .dataframe tbody tr th {\n",
       "        vertical-align: top;\n",
       "    }\n",
       "\n",
       "    .dataframe thead th {\n",
       "        text-align: right;\n",
       "    }\n",
       "</style>\n",
       "<table border=\"1\" class=\"dataframe\">\n",
       "  <thead>\n",
       "    <tr style=\"text-align: right;\">\n",
       "      <th></th>\n",
       "      <th>Indice Semaine</th>\n",
       "      <th>Indice Jour Semaine</th>\n",
       "      <th>Nombre de Montées</th>\n",
       "      <th>Nombre de Descentes</th>\n",
       "    </tr>\n",
       "  </thead>\n",
       "  <tbody>\n",
       "    <tr>\n",
       "      <th>count</th>\n",
       "      <td>1.235276e+06</td>\n",
       "      <td>1.235276e+06</td>\n",
       "      <td>1.235276e+06</td>\n",
       "      <td>1.235276e+06</td>\n",
       "    </tr>\n",
       "    <tr>\n",
       "      <th>mean</th>\n",
       "      <td>2.651148e+01</td>\n",
       "      <td>3.854003e+00</td>\n",
       "      <td>1.797095e+02</td>\n",
       "      <td>1.797204e+02</td>\n",
       "    </tr>\n",
       "    <tr>\n",
       "      <th>std</th>\n",
       "      <td>1.515043e+01</td>\n",
       "      <td>1.959460e+00</td>\n",
       "      <td>4.464246e+02</td>\n",
       "      <td>4.432752e+02</td>\n",
       "    </tr>\n",
       "    <tr>\n",
       "      <th>min</th>\n",
       "      <td>1.000000e+00</td>\n",
       "      <td>1.000000e+00</td>\n",
       "      <td>0.000000e+00</td>\n",
       "      <td>0.000000e+00</td>\n",
       "    </tr>\n",
       "    <tr>\n",
       "      <th>25%</th>\n",
       "      <td>1.300000e+01</td>\n",
       "      <td>2.000000e+00</td>\n",
       "      <td>3.280000e+00</td>\n",
       "      <td>3.800000e+00</td>\n",
       "    </tr>\n",
       "    <tr>\n",
       "      <th>50%</th>\n",
       "      <td>2.600000e+01</td>\n",
       "      <td>4.000000e+00</td>\n",
       "      <td>2.482000e+01</td>\n",
       "      <td>2.778000e+01</td>\n",
       "    </tr>\n",
       "    <tr>\n",
       "      <th>75%</th>\n",
       "      <td>4.000000e+01</td>\n",
       "      <td>5.000000e+00</td>\n",
       "      <td>1.497100e+02</td>\n",
       "      <td>1.512800e+02</td>\n",
       "    </tr>\n",
       "    <tr>\n",
       "      <th>max</th>\n",
       "      <td>5.200000e+01</td>\n",
       "      <td>7.000000e+00</td>\n",
       "      <td>9.934830e+03</td>\n",
       "      <td>1.094499e+04</td>\n",
       "    </tr>\n",
       "  </tbody>\n",
       "</table>\n",
       "</div>"
      ],
      "text/plain": [
       "       Indice Semaine  Indice Jour Semaine  Nombre de Montées  \\\n",
       "count    1.235276e+06         1.235276e+06       1.235276e+06   \n",
       "mean     2.651148e+01         3.854003e+00       1.797095e+02   \n",
       "std      1.515043e+01         1.959460e+00       4.464246e+02   \n",
       "min      1.000000e+00         1.000000e+00       0.000000e+00   \n",
       "25%      1.300000e+01         2.000000e+00       3.280000e+00   \n",
       "50%      2.600000e+01         4.000000e+00       2.482000e+01   \n",
       "75%      4.000000e+01         5.000000e+00       1.497100e+02   \n",
       "max      5.200000e+01         7.000000e+00       9.934830e+03   \n",
       "\n",
       "       Nombre de Descentes  \n",
       "count         1.235276e+06  \n",
       "mean          1.797204e+02  \n",
       "std           4.432752e+02  \n",
       "min           0.000000e+00  \n",
       "25%           3.800000e+00  \n",
       "50%           2.778000e+01  \n",
       "75%           1.512800e+02  \n",
       "max           1.094499e+04  "
      ]
     },
     "execution_count": 3,
     "metadata": {},
     "output_type": "execute_result"
    }
   ],
   "source": [
    "df.describe()"
   ]
  },
  {
   "cell_type": "markdown",
   "id": "c853053d",
   "metadata": {},
   "source": [
    "## Distribution attributes\n",
    "\n",
    "Let's first have a look at the number of people getting off. We will try to get an estimate of the distribution for this variable."
   ]
  },
  {
   "cell_type": "code",
   "execution_count": null,
   "id": "67c89d9e",
   "metadata": {},
   "outputs": [],
   "source": [
    "X = df['Nombre de Descentes']\n",
    "n = len(X)"
   ]
  },
  {
   "cell_type": "code",
   "execution_count": null,
   "id": "f77e7223",
   "metadata": {},
   "outputs": [],
   "source": [
    "plt.hist(X, log=True)"
   ]
  },
  {
   "cell_type": "markdown",
   "id": "97dc639d",
   "metadata": {},
   "source": [
    "To begin, compute the estimators for the mean and standard deviation;"
   ]
  },
  {
   "cell_type": "code",
   "execution_count": null,
   "id": "bfa7e0d2",
   "metadata": {},
   "outputs": [],
   "source": [
    "mean = ..."
   ]
  },
  {
   "cell_type": "code",
   "execution_count": null,
   "id": "7faa7269",
   "metadata": {},
   "outputs": [],
   "source": [
    "std = ..."
   ]
  },
  {
   "cell_type": "markdown",
   "id": "d97972d4",
   "metadata": {},
   "source": [
    "## Normal distribution\n",
    "\n",
    "We will now consider the data follows a normal distribution. We will therefore find the estimators of $\\mu$ and $\\sigma$ using the Maximum Likelihood Estimators.\n",
    "\n",
    "**MLE** : The goal of Maximum Likelihood Estimation is to find the values that maximize the likelihood function. To facilitate computation we are actually computing the minimum of the _negative_ log-likelihood function.\n",
    "\n",
    "As a reminder, in the case of a normal distribution, this function is:\n",
    "$$ -\\frac{1}{2\\sigma^2} \\left(\\sum_{i=1}^{n}x_i-\\mu \\right)^2 - n\\ln \\left(\\sigma \\sqrt{2\\pi} \\right)$$\n",
    "\n",
    "Write the negative log-likelihood function."
   ]
  },
  {
   "cell_type": "code",
   "execution_count": null,
   "id": "de7dc271",
   "metadata": {},
   "outputs": [],
   "source": [
    "def log_likelihood_normal(mu, sigma, data):\n",
    "    ..."
   ]
  },
  {
   "cell_type": "markdown",
   "id": "fbaa97e0",
   "metadata": {},
   "source": [
    "We could now use this function to find its minimal value, let's plot the function for different values of $\\hat\\mu$ and $\\hat\\sigma$. We also represent the estimation of the mean and standard deviation we computed earlier."
   ]
  },
  {
   "cell_type": "code",
   "execution_count": null,
   "id": "ca1520e7",
   "metadata": {},
   "outputs": [],
   "source": [
    "mu_t = np.linspace(100, 300, 11)\n",
    "sig_t = np.linspace(300, 500, 11)\n",
    "\n",
    "res = np.empty((11, 11))\n",
    "for i, m in enumerate(mu_t):\n",
    "    for j, s in enumerate(sig_t):\n",
    "        res[i, j] = log_likelihood_normal(m, s, X)"
   ]
  },
  {
   "cell_type": "code",
   "execution_count": null,
   "id": "fb798a58",
   "metadata": {},
   "outputs": [],
   "source": [
    "fig, ax = plt.subplots()\n",
    "im = ax.imshow(res)\n",
    "ax.figure.colorbar(im)\n",
    "ax.set_yticks(range(len(mu_t)), labels=mu_t)\n",
    "ax.set_xticks(range(len(sig_t)), labels=sig_t)\n",
    "ax.plot((std - sig_t.min()) / sig_t.ptp() * len(sig_t), (mean - mu_t.min()) / mu_t.ptp() * len(mu_t), 'r+', mew=3, ms=9 )\n",
    "fig.tight_layout()"
   ]
  },
  {
   "cell_type": "markdown",
   "id": "b3b6da47",
   "metadata": {},
   "source": [
    "What do you notice ?"
   ]
  },
  {
   "cell_type": "markdown",
   "id": "ec39d376",
   "metadata": {},
   "source": [
    "The values maximizing the likelihood are the estimator for the mean and standard deviation. It's no suprise since that's the values we find when computing the derivative of the likelihood."
   ]
  },
  {
   "cell_type": "markdown",
   "id": "32ac9adb",
   "metadata": {},
   "source": [
    "## Exponential distribution\n",
    "\n",
    "We will now consider the data follows an exponential distribution. Repeat the process and find the value of the estimator of the parameter $\\lambda$ using MLE.\n",
    "\n",
    "As a reminder: $$ X \\sim \\text{Exp}(\\lambda), \\qquad \\mathbb{P}(X \\in A) = \\int_A \\lambda e ^{-\\lambda x} dx$$"
   ]
  },
  {
   "cell_type": "code",
   "execution_count": null,
   "id": "fa83626f",
   "metadata": {},
   "outputs": [],
   "source": [
    "lmbd = ..."
   ]
  },
  {
   "cell_type": "markdown",
   "id": "e70cce67",
   "metadata": {},
   "source": [
    "Finally, let's compare the two distributions"
   ]
  },
  {
   "cell_type": "code",
   "execution_count": null,
   "id": "85935663",
   "metadata": {
    "scrolled": true
   },
   "outputs": [],
   "source": [
    "fig, ax = plt.subplots()\n",
    "plt.hist(df['Nombre de Descentes'], log=True)\n",
    "x = np.linspace(np.min(df['Nombre de Descentes']), np.max(df['Nombre de Descentes']), 200)\n",
    "normal = norm(mean, std)\n",
    "exp = expon(0, 1 / lmbd)\n",
    "ax2 = ax.twinx()\n",
    "ax2.plot(x, normal.pdf(x), color='green')\n",
    "ax2.plot(x, exp.pdf(x), color='red')\n",
    "ax2.set_yscale('log')\n",
    "ax2.set_ylim(bottom=1E-30, top=0.01)"
   ]
  },
  {
   "cell_type": "markdown",
   "id": "bc631813",
   "metadata": {},
   "source": [
    "What can you conclude ?"
   ]
  },
  {
   "cell_type": "markdown",
   "id": "c691a4af",
   "metadata": {},
   "source": []
  }
 ],
 "metadata": {
  "kernelspec": {
   "display_name": "Python 3 (ipykernel)",
   "language": "python",
   "name": "python3"
  },
  "language_info": {
   "codemirror_mode": {
    "name": "ipython",
    "version": 3
   },
   "file_extension": ".py",
   "mimetype": "text/x-python",
   "name": "python",
   "nbconvert_exporter": "python",
   "pygments_lexer": "ipython3",
   "version": "3.11.2"
  }
 },
 "nbformat": 4,
 "nbformat_minor": 5
}
