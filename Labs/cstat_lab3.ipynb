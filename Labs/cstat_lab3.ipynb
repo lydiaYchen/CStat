{
 "cells": [
  {
   "cell_type": "markdown",
   "id": "491d2c2d",
   "metadata": {},
   "source": [
    "# CSTAT Lab 3"
   ]
  },
  {
   "cell_type": "code",
   "execution_count": 1,
   "id": "04f159a0",
   "metadata": {},
   "outputs": [],
   "source": [
    "import pandas as pd\n",
    "import numpy as np\n",
    "import matplotlib.pyplot as plt\n",
    "from scipy.stats import t, probplot"
   ]
  },
  {
   "cell_type": "code",
   "execution_count": 2,
   "id": "cfbf402d",
   "metadata": {},
   "outputs": [
    {
     "data": {
      "text/html": [
       "<div>\n",
       "<style scoped>\n",
       "    .dataframe tbody tr th:only-of-type {\n",
       "        vertical-align: middle;\n",
       "    }\n",
       "\n",
       "    .dataframe tbody tr th {\n",
       "        vertical-align: top;\n",
       "    }\n",
       "\n",
       "    .dataframe thead th {\n",
       "        text-align: right;\n",
       "    }\n",
       "</style>\n",
       "<table border=\"1\" class=\"dataframe\">\n",
       "  <thead>\n",
       "    <tr style=\"text-align: right;\">\n",
       "      <th></th>\n",
       "      <th>Date</th>\n",
       "      <th>Ligne</th>\n",
       "      <th>Ligne Type</th>\n",
       "      <th>Jour Semaine</th>\n",
       "      <th>Horaire Type</th>\n",
       "      <th>Arrêt</th>\n",
       "      <th>Arrêt Code Long</th>\n",
       "      <th>Indice Semaine</th>\n",
       "      <th>Indice Jour Semaine</th>\n",
       "      <th>Nombre de Montées</th>\n",
       "      <th>Nombre de Descentes</th>\n",
       "      <th>Mois Annee</th>\n",
       "    </tr>\n",
       "  </thead>\n",
       "  <tbody>\n",
       "    <tr>\n",
       "      <th>0</th>\n",
       "      <td>2024-12-03</td>\n",
       "      <td>1</td>\n",
       "      <td>PRINCIPAL</td>\n",
       "      <td>2-Mardi</td>\n",
       "      <td>NORMAL</td>\n",
       "      <td>Belle-Idée-Centre</td>\n",
       "      <td>BLID00</td>\n",
       "      <td>49</td>\n",
       "      <td>2</td>\n",
       "      <td>118.05</td>\n",
       "      <td>5.06</td>\n",
       "      <td>2024-12</td>\n",
       "    </tr>\n",
       "    <tr>\n",
       "      <th>1</th>\n",
       "      <td>2024-12-03</td>\n",
       "      <td>1</td>\n",
       "      <td>PRINCIPAL</td>\n",
       "      <td>2-Mardi</td>\n",
       "      <td>NORMAL</td>\n",
       "      <td>Belle-Idée-Réception</td>\n",
       "      <td>BISA01</td>\n",
       "      <td>49</td>\n",
       "      <td>2</td>\n",
       "      <td>3.96</td>\n",
       "      <td>70.58</td>\n",
       "      <td>2024-12</td>\n",
       "    </tr>\n",
       "    <tr>\n",
       "      <th>2</th>\n",
       "      <td>2024-12-03</td>\n",
       "      <td>1</td>\n",
       "      <td>PRINCIPAL</td>\n",
       "      <td>2-Mardi</td>\n",
       "      <td>NORMAL</td>\n",
       "      <td>Ch. de l'Eperon</td>\n",
       "      <td>CEPR99</td>\n",
       "      <td>49</td>\n",
       "      <td>2</td>\n",
       "      <td>349.06</td>\n",
       "      <td>111.60</td>\n",
       "      <td>2024-12</td>\n",
       "    </tr>\n",
       "    <tr>\n",
       "      <th>3</th>\n",
       "      <td>2024-12-03</td>\n",
       "      <td>1</td>\n",
       "      <td>PRINCIPAL</td>\n",
       "      <td>2-Mardi</td>\n",
       "      <td>NORMAL</td>\n",
       "      <td>Chêne-Bougeries, Gradelle</td>\n",
       "      <td>GRDL01</td>\n",
       "      <td>49</td>\n",
       "      <td>2</td>\n",
       "      <td>277.34</td>\n",
       "      <td>83.78</td>\n",
       "      <td>2024-12</td>\n",
       "    </tr>\n",
       "    <tr>\n",
       "      <th>4</th>\n",
       "      <td>2024-12-03</td>\n",
       "      <td>1</td>\n",
       "      <td>PRINCIPAL</td>\n",
       "      <td>2-Mardi</td>\n",
       "      <td>NORMAL</td>\n",
       "      <td>Cirque</td>\n",
       "      <td>CIRQ00</td>\n",
       "      <td>49</td>\n",
       "      <td>2</td>\n",
       "      <td>695.15</td>\n",
       "      <td>677.48</td>\n",
       "      <td>2024-12</td>\n",
       "    </tr>\n",
       "  </tbody>\n",
       "</table>\n",
       "</div>"
      ],
      "text/plain": [
       "         Date Ligne Ligne Type Jour Semaine Horaire Type  \\\n",
       "0  2024-12-03     1  PRINCIPAL      2-Mardi       NORMAL   \n",
       "1  2024-12-03     1  PRINCIPAL      2-Mardi       NORMAL   \n",
       "2  2024-12-03     1  PRINCIPAL      2-Mardi       NORMAL   \n",
       "3  2024-12-03     1  PRINCIPAL      2-Mardi       NORMAL   \n",
       "4  2024-12-03     1  PRINCIPAL      2-Mardi       NORMAL   \n",
       "\n",
       "                       Arrêt Arrêt Code Long  Indice Semaine  \\\n",
       "0          Belle-Idée-Centre          BLID00              49   \n",
       "1       Belle-Idée-Réception          BISA01              49   \n",
       "2            Ch. de l'Eperon          CEPR99              49   \n",
       "3  Chêne-Bougeries, Gradelle          GRDL01              49   \n",
       "4                     Cirque          CIRQ00              49   \n",
       "\n",
       "   Indice Jour Semaine  Nombre de Montées  Nombre de Descentes Mois Annee  \n",
       "0                    2             118.05                 5.06    2024-12  \n",
       "1                    2               3.96                70.58    2024-12  \n",
       "2                    2             349.06               111.60    2024-12  \n",
       "3                    2             277.34                83.78    2024-12  \n",
       "4                    2             695.15               677.48    2024-12  "
      ]
     },
     "execution_count": 2,
     "metadata": {},
     "output_type": "execute_result"
    }
   ],
   "source": [
    "df = pd.read_pickle(\"tpg_data.zip\")\n",
    "df.head()"
   ]
  },
  {
   "cell_type": "markdown",
   "id": "564e3fe3",
   "metadata": {},
   "source": [
    "## Computing a Linear regression\n",
    "\n",
    "Let's see how reliable our data is. To do this, we'll check that the number of people getting on a vehicle is the same as the number of people getting off."
   ]
  },
  {
   "cell_type": "code",
   "execution_count": 3,
   "id": "e1821687",
   "metadata": {},
   "outputs": [
    {
     "data": {
      "text/plain": [
       "<matplotlib.collections.PathCollection at 0x17b83326cd0>"
      ]
     },
     "execution_count": 3,
     "metadata": {},
     "output_type": "execute_result"
    },
    {
     "data": {
      "image/png": "[encoded data removed]",
      "text/plain": [
       "<Figure size 640x480 with 1 Axes>"
      ]
     },
     "metadata": {},
     "output_type": "display_data"
    }
   ],
   "source": [
    "mvmt = df.groupby('Arrêt')[['Nombre de Descentes', 'Nombre de Montées']].agg('mean')\n",
    "plt.scatter(mvmt['Nombre de Descentes'], mvmt['Nombre de Montées'])"
   ]
  },
  {
   "cell_type": "markdown",
   "id": "435497dc",
   "metadata": {},
   "source": [
    "Compute the slope and intercept (a & b) to estimate a linear relationship in our data."
   ]
  },
  {
   "cell_type": "code",
   "execution_count": null,
   "id": "b42612e9",
   "metadata": {},
   "outputs": [],
   "source": [
    "X = mvmt['Nombre de Descentes']\n",
    "y = mvmt['Nombre de Montées']\n",
    "\n",
    "X_mean = mvmt['Nombre de Descentes'].mean()\n",
    "y_mean = mvmt['Nombre de Montées'].mean()\n",
    "\n",
    "a = ...\n",
    "b = ..."
   ]
  },
  {
   "cell_type": "code",
   "execution_count": null,
   "id": "035470c0",
   "metadata": {},
   "outputs": [],
   "source": [
    "def line(x):\n",
    "    return line.a * x + line.b"
   ]
  },
  {
   "cell_type": "code",
   "execution_count": null,
   "id": "1773fb50",
   "metadata": {},
   "outputs": [],
   "source": [
    "line.a = a\n",
    "line.b = b"
   ]
  },
  {
   "cell_type": "code",
   "execution_count": null,
   "id": "63da8bea",
   "metadata": {
    "scrolled": true
   },
   "outputs": [],
   "source": [
    "plt.scatter(mvmt['Nombre de Descentes'], mvmt['Nombre de Montées'])\n",
    "plt.plot((X.min(), X.max()), (line(X.min()), line(X.max())), \"r--\")"
   ]
  },
  {
   "cell_type": "markdown",
   "id": "c5f3cf50",
   "metadata": {},
   "source": [
    "Now, let's compute the confidence interval for our estimators. We'll use a 99% confidence.\n",
    "\n",
    "mse"
   ]
  },
  {
   "cell_type": "code",
   "execution_count": null,
   "id": "d5d963f5",
   "metadata": {},
   "outputs": [],
   "source": [
    "mse = ..."
   ]
  },
  {
   "cell_type": "markdown",
   "id": "82589807",
   "metadata": {},
   "source": [
    "interval a"
   ]
  },
  {
   "cell_type": "code",
   "execution_count": null,
   "id": "47ece4c6",
   "metadata": {},
   "outputs": [],
   "source": [
    "..."
   ]
  },
  {
   "cell_type": "markdown",
   "id": "27fc8b23",
   "metadata": {},
   "source": [
    "interval b"
   ]
  },
  {
   "cell_type": "code",
   "execution_count": null,
   "id": "66692853",
   "metadata": {},
   "outputs": [],
   "source": [
    "..."
   ]
  },
  {
   "cell_type": "markdown",
   "id": "a230f2e8",
   "metadata": {},
   "source": [
    "What can we conclude ?"
   ]
  },
  {
   "cell_type": "markdown",
   "id": "a391ab00",
   "metadata": {},
   "source": [
    "In theory, we would have the same number of people getting on and off, which means the linear estimation should be $a=1$ and $b=0$. These values are within our 99% confidence interval, so our data is trustworthy."
   ]
  },
  {
   "cell_type": "markdown",
   "id": "723e44d5",
   "metadata": {},
   "source": [
    "## Sanity check\n",
    "\n",
    "What are the assumtption we used ?"
   ]
  },
  {
   "cell_type": "markdown",
   "id": "27410609",
   "metadata": {},
   "source": []
  },
  {
   "cell_type": "markdown",
   "id": "c0432eb7",
   "metadata": {},
   "source": [
    "### QQ Plot (Quantile-Quantile Plot)\n",
    "A QQ plot compares the quantiles of residuals to a theoretical normal distribution. If the residuals are normally distributed, the points should lie along a 45-degree reference line. Deviations, especially at the tails, indicate skewness or heavy-tailed residuals, suggesting a potential violation of the normality assumption."
   ]
  },
  {
   "cell_type": "code",
   "execution_count": null,
   "id": "ee159eea",
   "metadata": {},
   "outputs": [],
   "source": [
    "y_pred = line(X)\n",
    "residuals = y - y_pred\n",
    "\n",
    "# Q-Q Plot\n",
    "probplot(residuals, dist=\"norm\", plot=plt)\n",
    "plt.show()"
   ]
  },
  {
   "cell_type": "markdown",
   "id": "02a61c59",
   "metadata": {},
   "source": [
    "### Residuals vs. Fitted Values\n",
    "This plot helps assess whether the residuals (errors) exhibit patterns that suggest a poor model fit. Ideally, residuals should be randomly scattered around zero, indicating that the model captures the relationship well. If a clear pattern emerges, such as a curved shape, it may indicate non-linearity, while a funnel-like shape suggests heteroscedasticity (unequal variance of errors)."
   ]
  },
  {
   "cell_type": "code",
   "execution_count": null,
   "id": "334f4037",
   "metadata": {},
   "outputs": [],
   "source": []
  },
  {
   "cell_type": "markdown",
   "id": "9cc7a48d",
   "metadata": {},
   "source": [
    "### Histogram of Residuals\n",
    "A histogram or density plot of residuals checks whether they follow a normal distribution, which is an assumption for valid hypothesis testing in linear regression. If the residuals resemble a bell-shaped curve, the normality assumption holds. Skewed or multi-peaked distributions suggest the presence of outliers or missing variables in the model."
   ]
  },
  {
   "cell_type": "code",
   "execution_count": null,
   "id": "460982ec",
   "metadata": {},
   "outputs": [],
   "source": []
  },
  {
   "cell_type": "markdown",
   "id": "fe53fcd5",
   "metadata": {},
   "source": [
    "### Residuals vs. X \n",
    "This plot checks if residuals are randomly scattered around zero for a given predictor $X$. Patterns suggest issues like non-linearity (need for transformation), omitted variables, or heteroscedasticity (changing variance). Ideally, residuals should show no clear trend, indicating a well-fitted linear model."
   ]
  },
  {
   "cell_type": "code",
   "execution_count": null,
   "id": "2def10da",
   "metadata": {},
   "outputs": [],
   "source": []
  },
  {
   "cell_type": "markdown",
   "id": "13b106fd",
   "metadata": {},
   "source": [
    "## (Bonus) Another example\n",
    "\n",
    "Let's now look at the cumulated number of passenger throughout the year, try to reproduce a Linear estimation for these data."
   ]
  },
  {
   "cell_type": "code",
   "execution_count": null,
   "id": "cb1303c2",
   "metadata": {
    "scrolled": true
   },
   "outputs": [],
   "source": [
    "mvmt = df.groupby('Indice Semaine')[['Nombre de Montées']].agg('sum').agg('cumsum')\n",
    "plt.scatter(mvmt.index, mvmt['Nombre de Montées'])"
   ]
  }
 ],
 "metadata": {
  "kernelspec": {
   "display_name": "Python 3 (ipykernel)",
   "language": "python",
   "name": "python3"
  },
  "language_info": {
   "codemirror_mode": {
    "name": "ipython",
    "version": 3
   },
   "file_extension": ".py",
   "mimetype": "text/x-python",
   "name": "python",
   "nbconvert_exporter": "python",
   "pygments_lexer": "ipython3",
   "version": "3.11.2"
  }
 },
 "nbformat": 4,
 "nbformat_minor": 5
}
