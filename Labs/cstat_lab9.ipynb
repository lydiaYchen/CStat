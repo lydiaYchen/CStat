{
 "cells": [
  {
   "cell_type": "markdown",
   "id": "0c5e409e",
   "metadata": {},
   "source": [
    "# CSTAT Lab #9\n",
    "This is the ninth lab of the computational statistics course, covering time series decompositions, regression with autocorrelated errors, the cross correlation function and the periodogram.  "
   ]
  },
  {
   "cell_type": "code",
   "execution_count": null,
   "id": "a7c12899",
   "metadata": {},
   "outputs": [],
   "source": [
    "# Import necessary libraries\n",
    "import numpy as np\n",
    "import pandas as pd\n",
    "import matplotlib.pyplot as plt\n",
    "import statsmodels.api as sm\n",
    "from statsmodels.tsa.seasonal import seasonal_decompose\n",
    "from statsmodels.graphics.tsaplots import plot_acf, plot_pacf"
   ]
  },
  {
   "cell_type": "code",
   "execution_count": null,
   "id": "87c04bff",
   "metadata": {},
   "outputs": [],
   "source": [
    "# Load monthly atmospheric CO2 from 1959 to 1997\n",
    "data_co2 = sm.datasets.co2.load_pandas().data\n",
    "# Convert to monthly frequency, interpolate missing\n",
    "co2 = data_co2['co2'].resample('MS').mean().interpolate()\n",
    "\n",
    "# Plot original series\n",
    "t = co2.index\n",
    "plt.figure(figsize=(10,4))\n",
    "plt.plot(t, co2, label='Monthly CO2 (ppmv)')\n",
    "plt.title('Monthly Atmospheric CO2')\n",
    "plt.xlabel('Date')\n",
    "plt.ylabel('CO2 concentration')\n",
    "plt.grid(True)\n",
    "plt.legend()\n",
    "plt.show()"
   ]
  },
  {
   "cell_type": "markdown",
   "id": "b4e4bad1",
   "metadata": {},
   "source": [
    "In the above graph we have plotted a dataset with the monthly atmospheric CO2 over a period in the 20th century. "
   ]
  },
  {
   "cell_type": "markdown",
   "id": "5d32c5fd",
   "metadata": {},
   "source": [
    "We perform an additive decomposition which you will replicate afterwards."
   ]
  },
  {
   "cell_type": "code",
   "execution_count": null,
   "id": "6324ed0d",
   "metadata": {},
   "outputs": [],
   "source": [
    "decomp_add = seasonal_decompose(co2, model='additive', period=12)\n",
    "decomp_add.plot()\n",
    "plt.suptitle('Additive Decomposition')\n",
    "plt.tight_layout()\n",
    "plt.show()"
   ]
  },
  {
   "cell_type": "markdown",
   "id": "c55c2e79",
   "metadata": {},
   "source": [
    "Next we perform a multiplicative decomposition"
   ]
  },
  {
   "cell_type": "code",
   "execution_count": null,
   "id": "045aff25",
   "metadata": {},
   "outputs": [],
   "source": [
    "decomp_mul = seasonal_decompose(co2, model='multiplicative', period=12)\n",
    "decomp_mul.plot()\n",
    "plt.suptitle('Multiplicative Decomposition')\n",
    "plt.tight_layout()\n",
    "plt.show()"
   ]
  },
  {
   "cell_type": "markdown",
   "id": "8e016c7f",
   "metadata": {},
   "source": [
    "Compare the additive and multiplicative decompositions in terms of trend, seasonal amplitude and residuals. "
   ]
  },
  {
   "cell_type": "markdown",
   "id": "4ed8dd38",
   "metadata": {},
   "source": [
    "Manually compute the additive components by completing the code below."
   ]
  },
  {
   "cell_type": "code",
   "execution_count": null,
   "id": "f517083a",
   "metadata": {},
   "outputs": [],
   "source": [
    "trend_ma = ...\n",
    "\n",
    "# Detrend series \n",
    "detrended = ...\n",
    "detrended_nonan = detrended.dropna()\n",
    "\n",
    "# Estimate seasonal factors per month\n",
    "seasonal_factors = detrended_nonan.groupby(detrended_nonan.index.month).mean()\n",
    "\n",
    "# Map seasonal factors to full index\n",
    "seasonal_index = co2.index.month.map(seasonal_factors)\n",
    "random = ...\n",
    "\n",
    "# Display seasonal factors table for clarity\n",
    "sf_df = pd.DataFrame({\n",
    "    'Month': range(1, 13),\n",
    "    'Seasonal_Factor': seasonal_factors.values.flatten()\n",
    "})\n",
    "# Plot manual components\n",
    "fig, axs = plt.subplots(3, 1, figsize=(10, 8), sharex=True)\n",
    "axs[0].plot(co2)\n",
    "axs[0].set_title('Original CO2')\n",
    "axs[1].plot(trend_ma)\n",
    "axs[1].set_title('Trend (12-mo MA)')\n",
    "axs[2].plot(random)\n",
    "axs[2].set_title('Random (Residual) Component')\n",
    "plt.tight_layout()\n",
    "plt.show()\n",
    "\n",
    "# Separate bar plot for seasonal factors for clarity\n",
    "plt.figure(figsize=(8,4))\n",
    "sf_df.set_index('Month')['Seasonal_Factor'].plot(kind='bar')\n",
    "plt.title('Seasonal Factors by Month')\n",
    "plt.xlabel('Month')\n",
    "plt.ylabel('Seasonal Factor')\n",
    "plt.grid(True, alpha=0.3)\n",
    "plt.show()"
   ]
  },
  {
   "cell_type": "markdown",
   "id": "339f0dc2",
   "metadata": {},
   "source": [
    "Thus the Co2 dataset exhibits seasonality and an increasing trend. Let us attempt to detrend this data.\n",
    "Next, implement a centered 12-month moving average (MA) manually by completing the code below. Comment whether you have succesfully smoothed out the seasonal volatility.\n"
   ]
  },
  {
   "cell_type": "code",
   "execution_count": null,
   "id": "dacff1f4",
   "metadata": {},
   "outputs": [],
   "source": [
    "window = ...\n",
    "... # Calculate moving average\n",
    "\n",
    "# Plotting the moving average\n",
    "ma_manual = pd.Series(manual_ma, index=co2.index)\n",
    "plt.figure(figsize=(10,4))\n",
    "plt.plot(co2, alpha=0.5, label='Original')\n",
    "plt.plot(ma_manual, label='Manual 12‑mo MA', linewidth=2)\n",
    "plt.title('CO₂: Manual Moving Average')\n",
    "plt.legend();\n",
    "plt.grid(True, alpha=0.3);\n",
    "plt.show()"
   ]
  },
  {
   "cell_type": "markdown",
   "id": "ddcd035a",
   "metadata": {},
   "source": [
    "Implement single exponential smoothing manually in the code block below. Find a value of $\\alpha$ that removes the seasonal volatility. "
   ]
  },
  {
   "cell_type": "code",
   "execution_count": null,
   "id": "8a7c6fa3",
   "metadata": {},
   "outputs": [],
   "source": [
    "alpha = ...\n",
    "... # Calculate SES manually\n",
    "\n",
    "# Plotting the SES    \n",
    "ses_manual = pd.Series(ses_manual, index=co2.index)\n",
    "plt.figure(figsize=(10,4))\n",
    "plt.plot(co2, alpha=0.5, label='Original')\n",
    "plt.plot(ses_manual, label='Manual SES (α=0.2)', linewidth=2)\n",
    "plt.title('CO2: Manual Single Exponential Smoothing')\n",
    "plt.legend(); plt.show()"
   ]
  },
  {
   "cell_type": "markdown",
   "id": "acf3faba",
   "metadata": {},
   "source": [
    "## Regression with AR(1) errors\n",
    "We load quarterly data for gdp and consumption. Complete the code below regressing consumption on GDP and inspecting the ACF, PACF of the residuals. \n",
    "Analyze the coefficients and their p-values. Diagnose the autocorrelation of the residuals."
   ]
  },
  {
   "cell_type": "code",
   "execution_count": null,
   "id": "7e42db01",
   "metadata": {},
   "outputs": [],
   "source": [
    "# Load quarterly macroeconomic data\n",
    "macro = sm.datasets.macrodata.load_pandas().data\n",
    "dates = pd.date_range(start='1959-01-01', periods=len(macro), freq='QS')\n",
    "macro.index = dates\n",
    "y = macro['realcons']  # consumption\n",
    "x = macro['realgdp']   # GDP\n",
    "\n",
    "# OLS regression y ~ x and residual diagnostics\n",
    "X = ...\n",
    "ols = ...\n",
    "print(ols.summary())\n",
    "\n",
    "# Plot ACF and PACF of residuals\n",
    "...\n",
    "\n"
   ]
  },
  {
   "cell_type": "markdown",
   "id": "b72123a1",
   "metadata": {},
   "source": [
    "Now estimate and AR(1) model on the residuals and refit the regression using the Cochrane-Orcutt transformation by completing the code below."
   ]
  },
  {
   "cell_type": "code",
   "execution_count": null,
   "id": "760f8d9e",
   "metadata": {},
   "outputs": [],
   "source": [
    "\n",
    "\n",
    "# Estimate AR(1) on residuals and apply Cochrane-Orcutt\n",
    "from statsmodels.tsa.ar_model import AutoReg\n",
    "ar_mod =  ...\n",
    "phi = ar_mod.params.iloc[1]  # AR(1) coefficient\n",
    "print(f\"Estimated AR(1) phi: {phi:.4f}\")\n",
    "\n",
    "# Create transformed variables\n",
    "y_star = ...\n",
    "x_star = ...\n",
    "ols_star = ...\n",
    "print(ols_star.summary())"
   ]
  },
  {
   "cell_type": "markdown",
   "id": "67345eef",
   "metadata": {},
   "source": [
    "Analyze if the correction is necessary and what the impact is on the coefficients.\n"
   ]
  },
  {
   "cell_type": "markdown",
   "id": "855b4181",
   "metadata": {},
   "source": [
    "## Cross-Correlation Function (CCF)\n",
    "Using the real investments of our macro dataset, compute the CCF between real investments and GDP."
   ]
  },
  {
   "cell_type": "code",
   "execution_count": null,
   "id": "e9434951",
   "metadata": {},
   "outputs": [],
   "source": [
    "inv = macro['realinv']\n",
    "lags = np.arange(-8, 9)\n",
    "\n",
    "# Calculate cross-correlation function (CCF) between GDP and investment\n",
    "ccf_values = ...\n",
    "\n",
    "# Plot raw CCF\n",
    "graph, ax = plt.subplots(figsize=(8,4))\n",
    "ax.stem(lags, ccf_values)\n",
    "ax.axhline(0, color='black')\n",
    "ax.set_title('Raw CCF: GDP vs Investment')\n",
    "ax.set_xlabel('Lag (quarters)')\n",
    "ax.set_ylabel('Correlation')\n",
    "plt.grid(True, alpha=0.3)\n",
    "plt.show()"
   ]
  },
  {
   "cell_type": "markdown",
   "id": "9b917c5b",
   "metadata": {},
   "source": [
    "Analyze the CCF, determine if the result is spurious and why. "
   ]
  },
  {
   "cell_type": "markdown",
   "id": "059733e3",
   "metadata": {},
   "source": [
    "Remove the trend from our GDP and investment data, recompute and plot the CCF."
   ]
  },
  {
   "cell_type": "code",
   "execution_count": null,
   "id": "a1d1bb7a",
   "metadata": {},
   "outputs": [],
   "source": [
    "# First differences to remove trend\n",
    "differenced_gdp = ...\n",
    "differenced_investment = ...\n",
    "\n",
    "# Compute CCF on differenced data\n",
    "ccf_diff = ...\n",
    "\n",
    "# Plot differenced CCF\n",
    "graph, ax = plt.subplots(figsize=(8,4))\n",
    "ax.stem(lags, ccf_diff)\n",
    "ax.axhline(0, color='black')\n",
    "ax.set_title('Differenced CCF: ΔGDP vs ΔInvestment')\n",
    "ax.set_xlabel('Lag (quarters)')\n",
    "ax.set_ylabel('Correlation')\n",
    "plt.grid(True, alpha=0.3)\n",
    "plt.show()"
   ]
  },
  {
   "cell_type": "markdown",
   "id": "e833cee4",
   "metadata": {},
   "source": [
    "Analyze the CCF, determine if the result is spurious. Also state if GDP leads/lags investment. "
   ]
  },
  {
   "cell_type": "markdown",
   "id": "fa861598",
   "metadata": {},
   "source": [
    "## Periodogram\n",
    "\n",
    "Finally, we load a dataset containing sunspot activity plotted below."
   ]
  },
  {
   "cell_type": "code",
   "execution_count": null,
   "id": "528e35fd",
   "metadata": {},
   "outputs": [],
   "source": [
    "sunspots = sm.datasets.sunspots.load_pandas().data['SUNACTIVITY']\n",
    "\n",
    "sunspots.plot(figsize=(10,4), title='Annual Sunspots')\n",
    "plt.xlabel('Date')\n",
    "plt.ylabel('Number of Sunspots')\n",
    "plt.grid(True, alpha=0.3)\n",
    "plt.show()\n"
   ]
  },
  {
   "cell_type": "markdown",
   "id": "2900df82",
   "metadata": {},
   "source": [
    "In the code below, compute the detrended sunspot activity and determine the dominant frequency with the scipy periodogram function.\n",
    "What is the dominant periodicity of sunspot activity in years? "
   ]
  },
  {
   "cell_type": "code",
   "execution_count": null,
   "id": "5606c8a4",
   "metadata": {},
   "outputs": [],
   "source": [
    "\n",
    "# Compute periodogram of detrended data\n",
    "from scipy.signal import periodogram\n",
    "freqs, psd = ...\n",
    "\n",
    "# Determine dominant frequency\n",
    "dominant_freq =  ...\n",
    "\n",
    "# Plot periodogram: Power vs Frequency\n",
    "plt.figure(figsize=(10,4))\n",
    "plt.plot(freqs, psd)\n",
    "plt.title('Periodogram of Detrended Sunspots')\n",
    "plt.xlabel('Frequency (cycles per year)')\n",
    "plt.ylabel('Power Spectral Density')\n",
    "plt.grid(True, alpha=0.3)\n",
    "plt.show()\n"
   ]
  }
 ],
 "metadata": {
  "kernelspec": {
   "display_name": ".venv",
   "language": "python",
   "name": "python3"
  },
  "language_info": {
   "codemirror_mode": {
    "name": "ipython",
    "version": 3
   },
   "file_extension": ".py",
   "mimetype": "text/x-python",
   "name": "python",
   "nbconvert_exporter": "python",
   "pygments_lexer": "ipython3",
   "version": "3.11.9"
  }
 },
 "nbformat": 4,
 "nbformat_minor": 5
}
