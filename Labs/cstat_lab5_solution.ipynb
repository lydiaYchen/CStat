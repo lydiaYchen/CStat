{
 "cells": [
  {
   "cell_type": "code",
   "execution_count": 1,
   "metadata": {},
   "outputs": [],
   "source": [
    "import numpy as np \n",
    "import pandas as pd\n",
    "import scipy.stats as st\n",
    "import matplotlib.pyplot as plt\n",
    "import statsmodels.api as sm\n",
    "from statsmodels.formula.api import ols"
   ]
  },
  {
   "cell_type": "markdown",
   "metadata": {},
   "source": [
    "# Two-Way ANOVA"
   ]
  },
  {
   "cell_type": "markdown",
   "metadata": {},
   "source": [
    "#### Example\n",
    "A physiologist was interested in learning whether smoking history and different types of stress tests influence the timing of a subject's maximum oxygen uptake, as measured in minutes. The researcher classified a subject's smoking history as either heavy smoking, moderate smoking, or non-smoking. He was interested in seeing the effects of three different types of stress tests — a test performed on a bicycle, a test on a treadmill, and a test on steps. The physiologist recruited 9 non-smokers, 9 moderate smokers, and 9 heavy smokers to participate in his experiment, for a total of $n = 27$ subjects. He then randomly assigned each of his recruited subjects to undergo one of the three types of stress tests.\n",
    "\n",
    "Is there sufficient evidence at the $\\alpha = 0.05$ significance level to conclude that smoking history has an effect on the time to maximum oxygen uptake? Is there sufficient evidence at the $\\alpha = 0.05$ significance level to conclude that the type of stress test has an effect on the time to maximum oxygen uptake? And, is there evidence of an interaction between smoking history and the type of stress test? (Don't forget to define the null hypothesis $H_0$ and the alternative hypothesis $H_1$.)"
   ]
  },
  {
   "cell_type": "markdown",
   "metadata": {},
   "source": [
    "## Hypotheses:\n",
    "Main Effect of Smoking History\n",
    "- $H_0: \\mu_{\\text{Non-Smoker}} = \\mu_{\\text{Moderate Smoker}} = \\mu_{\\text{Heavy Smoker}}$ (No difference in the timing of maximum oxygen uptake across smoking history groups)\n",
    "- $H_1: \\text{At least one group mean differs.}$ (At least one smoking history group differs in the timing of maximum oxygen uptake)\n",
    "\n",
    "Main Effect of Stress Test Type\n",
    "- $H_0: \\mu_{\\text{Bicycle}} = \\mu_{\\text{Treadmill}} = \\mu_{\\text{Step}}$ (No difference in the timing of maximum oxygen uptake across stress test types)\n",
    "- $H_1: \\text{At least one test mean differs.}$ (At least one stress test type differs in the timing of maximum oxygen uptake.)\n",
    "\n",
    "Interaction Effect between Smoking History and Stress Test Type\n",
    "- $H_0: \\text{The effect of Smoking History on timing is the same across all stress test types.}$ (No interaction between smoking history and stress test type in affecting the timing of maximum oxygen uptake)\n",
    "- $H_1: \\text{The effect of Smoking History on timing differs by Stress Test type.} $ (The effect of smoking history on timing of maximum oxygen uptake depends on the type of stress test)"
   ]
  },
  {
   "cell_type": "markdown",
   "metadata": {},
   "source": [
    "Independent Variables (Factors):\n",
    "- Smoking Status (Nonsmoker, Moderate, Heavy)\n",
    "- Exercise Test Type (Bicycle, Treadmill, Step Test)\n",
    "\n",
    "Dependent Variable: \n",
    "- The numerical scores from the tests"
   ]
  },
  {
   "cell_type": "code",
   "execution_count": 2,
   "metadata": {},
   "outputs": [],
   "source": [
    "# Here is the data smoking history vs test on bicyle, treadmill and step:\n",
    "# Bicycle Test\n",
    "bicycle_nonsmoker = [12.8, 13.5, 11.2]\n",
    "bicycle_moderate = [10.9, 11.1, 9.8]\n",
    "bicycle_heavy = [8.7, 9.2, 7.5]\n",
    "\n",
    "# Treadmill Test\n",
    "treadmill_nonsmoker = [16.2, 18.1, 17.8]\n",
    "treadmill_moderate = [15.5, 13.8, 16.2]\n",
    "treadmill_heavy = [14.7, 13.2, 8.1]\n",
    "\n",
    "# Step Test\n",
    "step_nonsmoker = [22.6, 19.3, 18.9]\n",
    "step_moderate = [20.1, 21.0, 15.9]\n",
    "step_heavy = [16.2, 16.1, 17.8]"
   ]
  },
  {
   "cell_type": "markdown",
   "metadata": {},
   "source": [
    "### Reorganize data if necessary"
   ]
  },
  {
   "cell_type": "code",
   "execution_count": 3,
   "metadata": {},
   "outputs": [
    {
     "data": {
      "text/html": [
       "<div>\n",
       "<style scoped>\n",
       "    .dataframe tbody tr th:only-of-type {\n",
       "        vertical-align: middle;\n",
       "    }\n",
       "\n",
       "    .dataframe tbody tr th {\n",
       "        vertical-align: top;\n",
       "    }\n",
       "\n",
       "    .dataframe thead th {\n",
       "        text-align: right;\n",
       "    }\n",
       "</style>\n",
       "<table border=\"1\" class=\"dataframe\">\n",
       "  <thead>\n",
       "    <tr style=\"text-align: right;\">\n",
       "      <th></th>\n",
       "      <th>Smoking</th>\n",
       "      <th>Test</th>\n",
       "      <th>Score</th>\n",
       "    </tr>\n",
       "  </thead>\n",
       "  <tbody>\n",
       "    <tr>\n",
       "      <th>0</th>\n",
       "      <td>Nonsmoker</td>\n",
       "      <td>Bicycle</td>\n",
       "      <td>12.8</td>\n",
       "    </tr>\n",
       "    <tr>\n",
       "      <th>1</th>\n",
       "      <td>Nonsmoker</td>\n",
       "      <td>Bicycle</td>\n",
       "      <td>13.5</td>\n",
       "    </tr>\n",
       "    <tr>\n",
       "      <th>2</th>\n",
       "      <td>Nonsmoker</td>\n",
       "      <td>Bicycle</td>\n",
       "      <td>11.2</td>\n",
       "    </tr>\n",
       "    <tr>\n",
       "      <th>3</th>\n",
       "      <td>Moderate</td>\n",
       "      <td>Bicycle</td>\n",
       "      <td>10.9</td>\n",
       "    </tr>\n",
       "    <tr>\n",
       "      <th>4</th>\n",
       "      <td>Moderate</td>\n",
       "      <td>Bicycle</td>\n",
       "      <td>11.1</td>\n",
       "    </tr>\n",
       "    <tr>\n",
       "      <th>5</th>\n",
       "      <td>Moderate</td>\n",
       "      <td>Bicycle</td>\n",
       "      <td>9.8</td>\n",
       "    </tr>\n",
       "    <tr>\n",
       "      <th>6</th>\n",
       "      <td>Heavy</td>\n",
       "      <td>Bicycle</td>\n",
       "      <td>8.7</td>\n",
       "    </tr>\n",
       "    <tr>\n",
       "      <th>7</th>\n",
       "      <td>Heavy</td>\n",
       "      <td>Bicycle</td>\n",
       "      <td>9.2</td>\n",
       "    </tr>\n",
       "    <tr>\n",
       "      <th>8</th>\n",
       "      <td>Heavy</td>\n",
       "      <td>Bicycle</td>\n",
       "      <td>7.5</td>\n",
       "    </tr>\n",
       "    <tr>\n",
       "      <th>9</th>\n",
       "      <td>Nonsmoker</td>\n",
       "      <td>Treadmill</td>\n",
       "      <td>16.2</td>\n",
       "    </tr>\n",
       "    <tr>\n",
       "      <th>10</th>\n",
       "      <td>Nonsmoker</td>\n",
       "      <td>Treadmill</td>\n",
       "      <td>18.1</td>\n",
       "    </tr>\n",
       "    <tr>\n",
       "      <th>11</th>\n",
       "      <td>Nonsmoker</td>\n",
       "      <td>Treadmill</td>\n",
       "      <td>17.8</td>\n",
       "    </tr>\n",
       "    <tr>\n",
       "      <th>12</th>\n",
       "      <td>Moderate</td>\n",
       "      <td>Treadmill</td>\n",
       "      <td>15.5</td>\n",
       "    </tr>\n",
       "    <tr>\n",
       "      <th>13</th>\n",
       "      <td>Moderate</td>\n",
       "      <td>Treadmill</td>\n",
       "      <td>13.8</td>\n",
       "    </tr>\n",
       "    <tr>\n",
       "      <th>14</th>\n",
       "      <td>Moderate</td>\n",
       "      <td>Treadmill</td>\n",
       "      <td>16.2</td>\n",
       "    </tr>\n",
       "    <tr>\n",
       "      <th>15</th>\n",
       "      <td>Heavy</td>\n",
       "      <td>Treadmill</td>\n",
       "      <td>14.7</td>\n",
       "    </tr>\n",
       "    <tr>\n",
       "      <th>16</th>\n",
       "      <td>Heavy</td>\n",
       "      <td>Treadmill</td>\n",
       "      <td>13.2</td>\n",
       "    </tr>\n",
       "    <tr>\n",
       "      <th>17</th>\n",
       "      <td>Heavy</td>\n",
       "      <td>Treadmill</td>\n",
       "      <td>8.1</td>\n",
       "    </tr>\n",
       "    <tr>\n",
       "      <th>18</th>\n",
       "      <td>Nonsmoker</td>\n",
       "      <td>Step</td>\n",
       "      <td>22.6</td>\n",
       "    </tr>\n",
       "    <tr>\n",
       "      <th>19</th>\n",
       "      <td>Nonsmoker</td>\n",
       "      <td>Step</td>\n",
       "      <td>19.3</td>\n",
       "    </tr>\n",
       "    <tr>\n",
       "      <th>20</th>\n",
       "      <td>Nonsmoker</td>\n",
       "      <td>Step</td>\n",
       "      <td>18.9</td>\n",
       "    </tr>\n",
       "    <tr>\n",
       "      <th>21</th>\n",
       "      <td>Moderate</td>\n",
       "      <td>Step</td>\n",
       "      <td>20.1</td>\n",
       "    </tr>\n",
       "    <tr>\n",
       "      <th>22</th>\n",
       "      <td>Moderate</td>\n",
       "      <td>Step</td>\n",
       "      <td>21.0</td>\n",
       "    </tr>\n",
       "    <tr>\n",
       "      <th>23</th>\n",
       "      <td>Moderate</td>\n",
       "      <td>Step</td>\n",
       "      <td>15.9</td>\n",
       "    </tr>\n",
       "    <tr>\n",
       "      <th>24</th>\n",
       "      <td>Heavy</td>\n",
       "      <td>Step</td>\n",
       "      <td>16.2</td>\n",
       "    </tr>\n",
       "    <tr>\n",
       "      <th>25</th>\n",
       "      <td>Heavy</td>\n",
       "      <td>Step</td>\n",
       "      <td>16.1</td>\n",
       "    </tr>\n",
       "    <tr>\n",
       "      <th>26</th>\n",
       "      <td>Heavy</td>\n",
       "      <td>Step</td>\n",
       "      <td>17.8</td>\n",
       "    </tr>\n",
       "  </tbody>\n",
       "</table>\n",
       "</div>"
      ],
      "text/plain": [
       "      Smoking       Test  Score\n",
       "0   Nonsmoker    Bicycle   12.8\n",
       "1   Nonsmoker    Bicycle   13.5\n",
       "2   Nonsmoker    Bicycle   11.2\n",
       "3    Moderate    Bicycle   10.9\n",
       "4    Moderate    Bicycle   11.1\n",
       "5    Moderate    Bicycle    9.8\n",
       "6       Heavy    Bicycle    8.7\n",
       "7       Heavy    Bicycle    9.2\n",
       "8       Heavy    Bicycle    7.5\n",
       "9   Nonsmoker  Treadmill   16.2\n",
       "10  Nonsmoker  Treadmill   18.1\n",
       "11  Nonsmoker  Treadmill   17.8\n",
       "12   Moderate  Treadmill   15.5\n",
       "13   Moderate  Treadmill   13.8\n",
       "14   Moderate  Treadmill   16.2\n",
       "15      Heavy  Treadmill   14.7\n",
       "16      Heavy  Treadmill   13.2\n",
       "17      Heavy  Treadmill    8.1\n",
       "18  Nonsmoker       Step   22.6\n",
       "19  Nonsmoker       Step   19.3\n",
       "20  Nonsmoker       Step   18.9\n",
       "21   Moderate       Step   20.1\n",
       "22   Moderate       Step   21.0\n",
       "23   Moderate       Step   15.9\n",
       "24      Heavy       Step   16.2\n",
       "25      Heavy       Step   16.1\n",
       "26      Heavy       Step   17.8"
      ]
     },
     "execution_count": 3,
     "metadata": {},
     "output_type": "execute_result"
    }
   ],
   "source": [
    "data = {\n",
    "    \"Smoking\": [\"Nonsmoker\"] * 3 + [\"Moderate\"] * 3 + [\"Heavy\"] * 3 +\n",
    "               [\"Nonsmoker\"] * 3 + [\"Moderate\"] * 3 + [\"Heavy\"] * 3 +\n",
    "               [\"Nonsmoker\"] * 3 + [\"Moderate\"] * 3 + [\"Heavy\"] * 3,\n",
    "    \"Test\": [\"Bicycle\"] * 9 + [\"Treadmill\"] * 9 + [\"Step\"] * 9,\n",
    "    \"Score\": [12.8, 13.5, 11.2, 10.9, 11.1, 9.8, 8.7, 9.2, 7.5,\n",
    "              16.2, 18.1, 17.8, 15.5, 13.8, 16.2, 14.7, 13.2, 8.1,\n",
    "              22.6, 19.3, 18.9, 20.1, 21.0, 15.9, 16.2, 16.1, 17.8]\n",
    "}\n",
    "\n",
    "# Convert to DataFrame\n",
    "data = pd.DataFrame(data)\n",
    "data"
   ]
  },
  {
   "cell_type": "code",
   "execution_count": 4,
   "metadata": {},
   "outputs": [
    {
     "name": "stdout",
     "output_type": "stream",
     "text": [
      "           Source          SS  df          MS          F       p-value\n",
      "0         Smoking   84.898519   2   42.449259  12.896703  3.347912e-04\n",
      "1            Test  298.071852   2  149.035926  45.279284  9.472739e-08\n",
      "2  Smoking * Test    2.814815   4    0.703704   0.213795  9.273412e-01\n",
      "3           Error   59.246667  18    3.291481        NaN           NaN\n"
     ]
    }
   ],
   "source": [
    "df = pd.DataFrame(data)\n",
    "\n",
    "# Step 2: Calculate the overall mean\n",
    "overall_mean = df['Score'].mean()\n",
    "\n",
    "# Step 3: Calculate the sums of squares for each source of variation\n",
    "\n",
    "# 3.1: Between groups (Smoking)\n",
    "smoking_means = df.groupby('Smoking')['Score'].mean()\n",
    "smoking_ss = sum(len(df[df['Smoking'] == level]) * (smoking_means[level] - overall_mean) ** 2 for level in smoking_means.index)\n",
    "\n",
    "# 3.2: Between groups (Test)\n",
    "test_means = df.groupby('Test')['Score'].mean()\n",
    "test_ss = sum(len(df[df['Test'] == level]) * (test_means[level] - overall_mean) ** 2 for level in test_means.index)\n",
    "\n",
    "# 3.3: Interaction (Smoking * Test)\n",
    "interaction_ss = 0\n",
    "for smoking_level in smoking_means.index:\n",
    "    for test_level in test_means.index:\n",
    "        subset = df[(df['Smoking'] == smoking_level) & (df['Test'] == test_level)]\n",
    "        interaction_mean = subset['Score'].mean()\n",
    "        interaction_ss += len(subset) * (interaction_mean - smoking_means[smoking_level] - test_means[test_level] + overall_mean) ** 2\n",
    "\n",
    "# 3.4: Total sum of squares\n",
    "total_ss = sum((df['Score'] - overall_mean) ** 2)\n",
    "\n",
    "# 3.5: Error (Residual) sum of squares\n",
    "error_ss = total_ss - smoking_ss - test_ss - interaction_ss\n",
    "\n",
    "# Step 4: Calculate degrees of freedom (df)\n",
    "df_smoking = len(smoking_means) - 1\n",
    "df_test = len(test_means) - 1\n",
    "df_interaction = df_smoking * df_test\n",
    "df_error = len(df) - (df_smoking + df_test + df_interaction + 1)\n",
    "\n",
    "# Step 5: Calculate Mean Squares (MS)\n",
    "ms_smoking = smoking_ss / df_smoking\n",
    "ms_test = test_ss / df_test\n",
    "ms_interaction = interaction_ss / df_interaction\n",
    "ms_error = error_ss / df_error\n",
    "\n",
    "# Step 6: Calculate F-statistics\n",
    "f_smoking = ms_smoking / ms_error\n",
    "f_test = ms_test / ms_error\n",
    "f_interaction = ms_interaction / ms_error\n",
    "\n",
    "# Step 7: Calculate p-values\n",
    "p_smoking = 1 - st.f.cdf(f_smoking, df_smoking, df_error)\n",
    "p_test = 1 - st.f.cdf(f_test, df_test, df_error)\n",
    "p_interaction = 1 - st.f.cdf(f_interaction, df_interaction, df_error)\n",
    "\n",
    "# Step 8: Create an ANOVA table\n",
    "anova_table = pd.DataFrame({\n",
    "    'Source': ['Smoking', 'Test', 'Smoking * Test', 'Error'],\n",
    "    'SS': [smoking_ss, test_ss, interaction_ss, error_ss],\n",
    "    'df': [df_smoking, df_test, df_interaction, df_error],\n",
    "    'MS': [ms_smoking, ms_test, ms_interaction, ms_error],\n",
    "    'F': [f_smoking, f_test, f_interaction, np.nan],\n",
    "    'p-value': [p_smoking, p_test, p_interaction, np.nan]\n",
    "})\n",
    "\n",
    "print(anova_table)\n"
   ]
  },
  {
   "cell_type": "markdown",
   "metadata": {},
   "source": [
    "### Compare your from-scratch results with two-way ANOVA from the library statsmodels"
   ]
  },
  {
   "cell_type": "code",
   "execution_count": 5,
   "metadata": {},
   "outputs": [
    {
     "name": "stdout",
     "output_type": "stream",
     "text": [
      "                  sum_sq    df          F        PR(>F)\n",
      "Smoking        84.898519   2.0  12.896703  3.347912e-04\n",
      "Test          298.071852   2.0  45.279284  9.472739e-08\n",
      "Smoking:Test    2.814815   4.0   0.213795  9.273412e-01\n",
      "Residual       59.246667  18.0        NaN           NaN\n"
     ]
    }
   ],
   "source": [
    "\n",
    "# Fit two-way ANOVA model\n",
    "model = ols(\"Score ~ Smoking*Test\", data=data).fit()\n",
    "anova_table = sm.stats.anova_lm(model, typ=2)\n",
    "print(anova_table)"
   ]
  },
  {
   "cell_type": "code",
   "execution_count": 6,
   "metadata": {},
   "outputs": [
    {
     "name": "stdout",
     "output_type": "stream",
     "text": [
      "True\n",
      "True\n",
      "False\n"
     ]
    }
   ],
   "source": [
    "print(p_smoking < 0.05)\n",
    "print(p_test < 0.05)\n",
    "print(p_interaction < 0.05)\n"
   ]
  },
  {
   "cell_type": "markdown",
   "metadata": {},
   "source": [
    "### Please explain your results using $\\alpha = 0.05$ significance level."
   ]
  },
  {
   "cell_type": "markdown",
   "metadata": {},
   "source": [
    "- Smoking: \n",
    "\n",
    "Since the p-value is much smaller than 0.05, we reject the null hypothesis. This means there is a significant main effect of Smoking on the scores.\n",
    "\n",
    "- Test: \n",
    "\n",
    "The p-value is very small, so we reject the null hypothesis. There is a significant main effect of the Test type on the scores.\n",
    "\n",
    "- Interaction:\n",
    "\n",
    "Since the p-value is greater than 0.05, we fail to reject the null hypothesis. This indicates there is no significant interaction effect between Smoking and Test.\n"
   ]
  },
  {
   "cell_type": "markdown",
   "metadata": {},
   "source": [
    "# General Factorial Design"
   ]
  },
  {
   "cell_type": "markdown",
   "metadata": {},
   "source": [
    "The quality control department of a fabric finishing plant is studying the effect of several factors on the dyeing of cotton-synthetic cloth used to manufacture men's shirts. Three operators, three cycle times, and two temperatures were selected, and three small specimens of cloth were dyed under each set of conditions. The finished cloth was compared to a standard, and a numerical score was assigned. \n",
    "\n",
    "Define the levels of each factor as the following:\n",
    "- Temperature takes values 300 and 350.\n",
    "- Cycle Time  takes values 40, 50, 60. \n",
    "- Operator takes values 1, 2, 3.\n",
    "\n",
    "Define the model for this experiment and calculate the parameters $\\alpha_i, \\beta_j, \\gamma_k$ for the main effects and interaction effects into the model. Find confidence interval of $0.05$ significance level for each parameter. Then, create the ANOVA table. Explain your results."
   ]
  },
  {
   "cell_type": "markdown",
   "metadata": {},
   "source": [
    "### Data"
   ]
  },
  {
   "cell_type": "code",
   "execution_count": 7,
   "metadata": {},
   "outputs": [
    {
     "name": "stdout",
     "output_type": "stream",
     "text": [
      "    Temperature  CycleTime  Operator  Score\n",
      "0           300         40         1     23\n",
      "1           300         40         2     27\n",
      "2           300         40         3     31\n",
      "3           350         40         1     24\n",
      "4           350         40         2     38\n",
      "5           350         40         3     34\n",
      "6           300         40         1     24\n",
      "7           300         40         2     28\n",
      "8           300         40         3     32\n",
      "9           350         40         1     23\n",
      "10          350         40         2     36\n",
      "11          350         40         3     36\n",
      "12          300         40         1     25\n",
      "13          300         40         2     26\n",
      "14          300         40         3     29\n",
      "15          350         40         1     28\n",
      "16          350         40         2     35\n",
      "17          350         40         3     39\n",
      "18          300         50         1     36\n",
      "19          300         50         2     34\n",
      "20          300         50         3     33\n",
      "21          350         50         1     37\n",
      "22          350         50         2     34\n",
      "23          350         50         3     34\n",
      "24          300         50         1     35\n",
      "25          300         50         2     38\n",
      "26          300         50         3     34\n",
      "27          350         50         1     39\n",
      "28          350         50         2     38\n",
      "29          350         50         3     36\n",
      "30          300         50         1     36\n",
      "31          300         50         2     39\n",
      "32          300         50         3     35\n",
      "33          350         50         1     35\n",
      "34          350         50         2     36\n",
      "35          350         50         3     31\n",
      "36          300         60         1     28\n",
      "37          300         60         2     35\n",
      "38          300         60         3     26\n",
      "39          350         60         1     26\n",
      "40          350         60         2     36\n",
      "41          350         60         3     28\n",
      "42          300         60         1     24\n",
      "43          300         60         2     35\n",
      "44          300         60         3     27\n",
      "45          350         60         1     29\n",
      "46          350         60         2     37\n",
      "47          350         60         3     26\n",
      "48          300         60         1     27\n",
      "49          300         60         2     34\n",
      "50          300         60         3     25\n",
      "51          350         60         1     25\n",
      "52          350         60         2     34\n",
      "53          350         60         3     24\n"
     ]
    }
   ],
   "source": [
    "data = {\n",
    "    'Temperature': [300, 300, 300, 350, 350, 350] * 9,\n",
    "    'CycleTime': [40] * 18 + [50] * 18 + [60] * 18,\n",
    "    'Operator': [1, 2, 3] * 18,\n",
    "    'Score': [\n",
    "        23, 27, 31, 24, 38, 34, \n",
    "        24, 28, 32, 23, 36, 36, \n",
    "        25, 26, 29, 28, 35, 39,\n",
    "        36, 34, 33, 37, 34, 34, \n",
    "        35, 38, 34, 39, 38, 36, \n",
    "        36, 39, 35, 35, 36, 31,\n",
    "        28, 35, 26, 26, 36, 28, \n",
    "        24, 35, 27, 29, 37, 26, \n",
    "        27, 34, 25, 25, 34, 24\n",
    "    ]\n",
    "}\n",
    "\n",
    "df = pd.DataFrame(data)\n",
    "\n",
    "\n",
    "print(df)\n"
   ]
  },
  {
   "cell_type": "markdown",
   "metadata": {},
   "source": [
    "### Calculations"
   ]
  },
  {
   "cell_type": "code",
   "execution_count": 8,
   "metadata": {},
   "outputs": [
    {
     "name": "stdout",
     "output_type": "stream",
     "text": [
      "Overall Mean 31.555555555555557\n",
      "Main Effects for Temperature\n",
      "{300: -0.9629629629629655, 350: 0.9629629629629619}\n",
      "Main Effects for Cycle Time\n",
      "{40: -1.6666666666666679, 50: 4.0, 60: -2.3333333333333357}\n",
      "Main Effects for Operator\n",
      "{1: -2.4444444444444464, 2: 2.8888888888888857, 3: -0.4444444444444464}\n",
      "Interaction Effects for Temperature * Cycle Time\n",
      "{(300, 40): -1.7037037037037024, (300, 50): 0.9629629629629619, (300, 60): 0.7407407407407476, (350, 40): 1.7037037037037095, (350, 50): -0.9629629629629619, (350, 60): -0.7407407407407405}\n",
      "Interaction Effects for Temperature * Operator\n",
      "{(300, 1): 0.518518518518519, (300, 2): -0.5925925925925952, (300, 3): 0.07407407407407618, (350, 1): -0.5185185185185155, (350, 2): 0.5925925925925952, (350, 3): -0.07407407407407263}\n",
      "Interaction Effects for Cycle Time * Operator\n",
      "{(40, 1): -2.944444444444443, (40, 2): -1.1111111111111072, (40, 3): 4.055555555555557, (50, 1): 3.2222222222222285, (50, 2): -1.9444444444444429, (50, 3): -1.277777777777775, (60, 1): -0.277777777777775, (60, 2): 3.055555555555557, (60, 3): -2.777777777777775}\n",
      "Interaction Effects for Temperature * Cycle Time * Operator\n",
      "{(300, 40, 1): -2.4814814814814774, (300, 40, 2): -4.8148148148148096, (300, 40, 3): 2.1851851851851904, (300, 50, 1): 3.518518518518519, (300, 50, 2): -0.48148148148148096, (300, 50, 3): -0.1481481481481488, (300, 60, 1): 0.518518518518519, (300, 60, 2): 3.518518518518526, (300, 60, 3): -1.8148148148148096, (350, 40, 1): -3.4074074074074048, (350, 40, 2): 2.5925925925925952, (350, 40, 3): 5.925925925925924, (350, 50, 1): 2.925925925925924, (350, 50, 2): -3.4074074074074048, (350, 50, 3): -2.4074074074074083, (350, 60, 1): -1.074074074074069, (350, 60, 2): 2.5925925925925952, (350, 60, 3): -3.740740740740737}\n"
     ]
    }
   ],
   "source": [
    "#overall mean\n",
    "overall_mean = df['Score'].mean()\n",
    "print(\"Overall Mean\", overall_mean)\n",
    "\n",
    "#main effects\n",
    "# Temperature\n",
    "temperature_means = df.groupby('Temperature')['Score'].mean()\n",
    "alpha = {temp: temp_mean - overall_mean for temp, temp_mean in temperature_means.items()}\n",
    "\n",
    "# Cycle Time\n",
    "cycle_time_means = df.groupby('CycleTime')['Score'].mean()\n",
    "beta = {cycle: cycle_mean - overall_mean for cycle, cycle_mean in cycle_time_means.items()}\n",
    "\n",
    "# Operator\n",
    "operator_means = df.groupby('Operator')['Score'].mean()\n",
    "gamma = {op: op_mean - overall_mean for op, op_mean in operator_means.items()}\n",
    "\n",
    "# interaction effects\n",
    "\n",
    "# Interaction effect Temperature * Cycle Time\n",
    "interaction_alpha_beta = {}\n",
    "for temp in temperature_means.index:\n",
    "    for cycle in cycle_time_means.index:\n",
    "        subset = df[(df['Temperature'] == temp) & (df['CycleTime'] == cycle)]\n",
    "        interaction_mean = subset['Score'].mean()\n",
    "        interaction_alpha_beta[(temp, cycle)] = interaction_mean - alpha[temp] - beta[cycle] - overall_mean\n",
    "\n",
    "# Interaction effect Temperature * Operator\n",
    "interaction_alpha_gamma = {}\n",
    "for temp in temperature_means.index:\n",
    "    for op in operator_means.index:\n",
    "        subset = df[(df['Temperature'] == temp) & (df['Operator'] == op)]\n",
    "        interaction_mean = subset['Score'].mean()\n",
    "        interaction_alpha_gamma[(temp, op)] = interaction_mean - alpha[temp] - gamma[op] - overall_mean\n",
    "\n",
    "# Interaction effect  Cycle Time * Operator\n",
    "interaction_beta_gamma = {}\n",
    "for cycle in cycle_time_means.index:\n",
    "    for op in operator_means.index:\n",
    "        subset = df[(df['CycleTime'] == cycle) & (df['Operator'] == op)]\n",
    "        interaction_mean = subset['Score'].mean()\n",
    "        interaction_beta_gamma[(cycle, op)] = interaction_mean - beta[cycle] - gamma[op] - overall_mean\n",
    "\n",
    "# Interaction effect Temperature * Cycle Time * Operator\n",
    "interaction_alpha_beta_gamma = {}\n",
    "for temp in temperature_means.index:\n",
    "    for cycle in cycle_time_means.index:\n",
    "        for op in operator_means.index:\n",
    "            subset = df[(df['Temperature'] == temp) & (df['CycleTime'] == cycle) & (df['Operator'] == op)]\n",
    "            interaction_mean = subset['Score'].mean()\n",
    "            interaction_alpha_beta_gamma[(temp, cycle, op)] = interaction_mean - alpha[temp] - beta[cycle] - gamma[op] - overall_mean\n",
    "\n",
    "# Model Results\n",
    "print(\"Main Effects for Temperature\")\n",
    "print(alpha)\n",
    "\n",
    "print(\"Main Effects for Cycle Time\")\n",
    "print(beta)\n",
    "\n",
    "print(\"Main Effects for Operator\")\n",
    "print(gamma)\n",
    "\n",
    "print(\"Interaction Effects for Temperature * Cycle Time\")\n",
    "print(interaction_alpha_beta)\n",
    "\n",
    "\n",
    "print(\"Interaction Effects for Temperature * Operator\")\n",
    "print(interaction_alpha_gamma)\n",
    "\n",
    "print(\"Interaction Effects for Cycle Time * Operator\")\n",
    "print(interaction_beta_gamma)\n",
    "\n",
    "print(\"Interaction Effects for Temperature * Cycle Time * Operator\")\n",
    "print(interaction_alpha_beta_gamma)\n"
   ]
  },
  {
   "cell_type": "markdown",
   "metadata": {},
   "source": [
    "### Confidence Intervals"
   ]
  },
  {
   "cell_type": "code",
   "execution_count": 9,
   "metadata": {},
   "outputs": [
    {
     "name": "stdout",
     "output_type": "stream",
     "text": [
      "Confidence Intervals for Temperature\n",
      "Temperature 300: (-2.3743934998990572, 0.4484675739731263)\n",
      "Temperature 350: (-0.44846757397312986, 2.3743934998990537)\n",
      "Confidence Intervals for Cycle Time\n",
      "Cycle Time 40: (-3.395308978104623, 0.06197564477128714)\n",
      "Cycle Time 50: (2.271357688562045, 5.728642311437955)\n",
      "Cycle Time 60: (-4.061975644771291, -0.6046910218953807)\n",
      "Confidence Intervals for Operator\n",
      "Operator 1: (-4.173086755882402, -0.7158021330064914)\n",
      "Operator 2: (1.1602465774509307, 4.617531200326841)\n",
      "Operator 3: (-2.1730867558824016, 1.2841978669935086)\n",
      "Confidence Intervals for Interaction - Temperature * Cycle Time\n",
      "Temperature  300, Cycle Time 40: (-5.937995314511977, 2.5305879071045725)\n",
      "Temperature  300, Cycle Time 50: (-3.271328647845313, 5.197254573771237)\n",
      "Temperature  300, Cycle Time 60: (-3.4935508700675273, 4.9750323515490225)\n",
      "Temperature  350, Cycle Time 40: (-2.5305879071045654, 5.937995314511984)\n",
      "Temperature  350, Cycle Time 50: (-5.197254573771237, 3.271328647845313)\n",
      "Temperature  350, Cycle Time 60: (-4.975032351549015, 3.4935508700675344)\n",
      "Confidence Intervals for Interaction - Temperature * Operator\n",
      "Temperature 300, Operator 1: (-3.715773092289756, 4.752810129326794)\n",
      "Temperature 300, Operator 2: (-4.82688420340087, 3.6416990182156797)\n",
      "Temperature 300, Operator 3: (-4.160217536734199, 4.308365684882351)\n",
      "Temperature 350, Operator 1: (-4.75281012932679, 3.7157730922897594)\n",
      "Temperature 350, Operator 2: (-3.6416990182156797, 4.82688420340087)\n",
      "Temperature 350, Operator 3: (-4.3083656848823475, 4.160217536734202)\n",
      "Confidence Intervals for Interaction - Cycle Time * Operator\n",
      "Cycle Time  40, Operator 1: (-7.178736055252718, 1.289847166363832)\n",
      "Cycle Time  40, Operator 2: (-5.345402721919382, 3.1231804996971677)\n",
      "Cycle Time  40, Operator 3: (-0.17873605525271774, 8.289847166363831)\n",
      "Cycle Time  50, Operator 1: (-1.0120693885860463, 7.456513833030503)\n",
      "Cycle Time  50, Operator 2: (-6.178736055252718, 2.289847166363832)\n",
      "Cycle Time  50, Operator 3: (-5.51206938858605, 2.9565138330305)\n",
      "Cycle Time  60, Operator 1: (-4.51206938858605, 3.9565138330305)\n",
      "Cycle Time  60, Operator 2: (-1.1787360552527177, 7.289847166363832)\n",
      "Cycle Time  60, Operator 3: (-7.01206938858605, 1.4565138330304999)\n",
      "Confidence Intervals for Interaction - Temperature * Cycle Time * Operator\n",
      "Temperature  300, Cycle Time 40, Operator 1: (-6.715773092289752, 1.7528101293267975)\n",
      "Temperature  300, Cycle Time 40, Operator 2: (-9.049106425623084, -0.5805232040065347)\n",
      "Temperature  300, Cycle Time 40, Operator 3: (-2.0491064256230844, 6.419476795993465)\n",
      "Temperature  300, Cycle Time 50, Operator 1: (-0.7157730922897558, 7.752810129326794)\n",
      "Temperature  300, Cycle Time 50, Operator 2: (-4.715773092289756, 3.752810129326794)\n",
      "Temperature  300, Cycle Time 50, Operator 3: (-4.382439758956424, 4.086143462660126)\n",
      "Temperature  300, Cycle Time 60, Operator 1: (-3.715773092289756, 4.752810129326794)\n",
      "Temperature  300, Cycle Time 60, Operator 2: (-0.7157730922897487, 7.752810129326801)\n",
      "Temperature  300, Cycle Time 60, Operator 3: (-6.049106425623084, 2.4194767959934653)\n",
      "Temperature  350, Cycle Time 40, Operator 1: (-7.64169901821568, 0.8268842034008701)\n",
      "Temperature  350, Cycle Time 40, Operator 2: (-1.6416990182156797, 6.82688420340087)\n",
      "Temperature  350, Cycle Time 40, Operator 3: (1.691634315117649, 10.160217536734198)\n",
      "Temperature  350, Cycle Time 50, Operator 1: (-1.308365684882351, 7.160217536734199)\n",
      "Temperature  350, Cycle Time 50, Operator 2: (-7.64169901821568, 0.8268842034008701)\n",
      "Temperature  350, Cycle Time 50, Operator 3: (-6.641699018215683, 1.8268842034008665)\n",
      "Temperature  350, Cycle Time 60, Operator 1: (-5.308365684882344, 3.160217536734206)\n",
      "Temperature  350, Cycle Time 60, Operator 2: (-1.6416990182156797, 6.82688420340087)\n",
      "Temperature  350, Cycle Time 60, Operator 3: (-7.975032351549012, 0.49355087006753795)\n"
     ]
    }
   ],
   "source": [
    "# Residual Variance (MSE)\n",
    "df2 = df.copy()\n",
    "df2['Predicted'] = df2.apply(lambda row: overall_mean + alpha[row['Temperature']] + beta[row['CycleTime']] + gamma[row['Operator']], axis=1)\n",
    "df2['Residual'] = df2['Score'] - df2['Predicted']\n",
    "MSE = np.var(df2['Residual'], ddof=len(alpha) + len(beta) + len(gamma))\n",
    "\n",
    "# Standard Errors\n",
    "n = len(df2) / (len(alpha) * len(beta) * len(gamma))  \n",
    "se_alpha = np.sqrt(MSE / (n * len(beta) * len(gamma)))\n",
    "se_beta = np.sqrt(MSE / (n * len(alpha) * len(gamma)))\n",
    "se_gamma = np.sqrt(MSE / (n * len(alpha) * len(beta)))\n",
    "se_interaction = np.sqrt(MSE / n)\n",
    "\n",
    "# 95% confidence level\n",
    "significance_level = 0.05  \n",
    "df_error = len(df2) - (len(alpha) + len(beta) + len(gamma) + 1)  # Degrees of freedom\n",
    "t_crit = st.t.ppf(1 - significance_level / 2, df_error)  # t-value for CI\n",
    "\n",
    "# CI for Main Effects\n",
    "ci_alpha = {temp: (val - t_crit * se_alpha, val + t_crit * se_alpha) for temp, val in alpha.items()}\n",
    "ci_beta = {cycle: (val - t_crit * se_beta, val + t_crit * se_beta) for cycle, val in beta.items()}\n",
    "ci_gamma = {op: (val - t_crit * se_gamma, val + t_crit * se_gamma) for op, val in gamma.items()}\n",
    "\n",
    "# CI for Interaction Effects\n",
    "ci_interaction_alpha_beta = {key: (val - t_crit * se_interaction, val + t_crit * se_interaction) for key, val in interaction_alpha_beta.items()}\n",
    "ci_interaction_alpha_gamma = {key: (val - t_crit * se_interaction, val + t_crit * se_interaction) for key, val in interaction_alpha_gamma.items()}\n",
    "ci_interaction_beta_gamma = {key: (val - t_crit * se_interaction, val + t_crit * se_interaction) for key, val in interaction_beta_gamma.items()}\n",
    "ci_interaction_alpha_beta_gamma = {key: (val - t_crit * se_interaction, val + t_crit * se_interaction) for key, val in interaction_alpha_beta_gamma.items()}\n",
    "\n",
    "print(\"Confidence Intervals for Temperature\")\n",
    "for temp, ci in ci_alpha.items():\n",
    "    print(f\"Temperature {temp}: {ci}\")\n",
    "\n",
    "print(\"Confidence Intervals for Cycle Time\")\n",
    "for cycle, ci in ci_beta.items():\n",
    "    print(f\"Cycle Time {cycle}: {ci}\")\n",
    "\n",
    "print(\"Confidence Intervals for Operator\")\n",
    "for op, ci in ci_gamma.items():\n",
    "    print(f\"Operator {op}: {ci}\")\n",
    "\n",
    "print(\"Confidence Intervals for Interaction - Temperature * Cycle Time\")\n",
    "for key, ci in ci_interaction_alpha_beta.items():\n",
    "    print(f\"Temperature  {key[0]}, Cycle Time {key[1]}: {ci}\")\n",
    "    \n",
    "print(\"Confidence Intervals for Interaction - Temperature * Operator\")\n",
    "for key, ci in ci_interaction_alpha_gamma.items():\n",
    "    print(f\"Temperature {key[0]}, Operator {key[1]}: {ci}\")\n",
    "\n",
    "print(\"Confidence Intervals for Interaction - Cycle Time * Operator\")\n",
    "for key, ci in ci_interaction_beta_gamma.items():\n",
    "    print(f\"Cycle Time  {key[0]}, Operator {key[1]}: {ci}\")\n",
    "    \n",
    "print(\"Confidence Intervals for Interaction - Temperature * Cycle Time * Operator\")\n",
    "for key, ci in ci_interaction_alpha_beta_gamma.items():\n",
    "    print(f\"Temperature  {key[0]}, Cycle Time {key[1]}, Operator {key[2]}: {ci}\")"
   ]
  },
  {
   "cell_type": "code",
   "execution_count": 10,
   "metadata": {},
   "outputs": [
    {
     "name": "stdout",
     "output_type": "stream",
     "text": [
      "                                  df      sum_sq     mean_sq          F  \\\n",
      "Temperature                      1.0   50.074074   50.074074  15.276836   \n",
      "CycleTime                        2.0  436.000000  218.000000  66.508475   \n",
      "Operator                         2.0  261.333333  130.666667  39.864407   \n",
      "Temperature:CycleTime            2.0   78.814815   39.407407  12.022599   \n",
      "Temperature:Operator             2.0   11.259259    5.629630   1.717514   \n",
      "CycleTime:Operator               4.0  355.666667   88.916667  27.127119   \n",
      "Temperature:CycleTime:Operator   4.0   46.185185   11.546296   3.522599   \n",
      "Residual                        36.0  118.000000    3.277778        NaN   \n",
      "\n",
      "                                      PR(>F)  \n",
      "Temperature                     3.933514e-04  \n",
      "CycleTime                       8.141424e-13  \n",
      "Operator                        7.438716e-10  \n",
      "Temperature:CycleTime           1.001927e-04  \n",
      "Temperature:Operator            1.938948e-01  \n",
      "CycleTime:Operator              1.982473e-10  \n",
      "Temperature:CycleTime:Operator  1.587012e-02  \n",
      "Residual                                 NaN  \n"
     ]
    }
   ],
   "source": [
    "# Fit three-way ANOVA model\n",
    "# Convert categorical variables to categorical type\n",
    "df['Temperature'] = df['Temperature'].astype('category')\n",
    "df['CycleTime'] = df['CycleTime'].astype('category')\n",
    "df['Operator'] = df['Operator'].astype('category')\n",
    "\n",
    "model = ols(\"Score ~ Temperature * CycleTime * Operator\", data=df).fit()\n",
    "anova_table = sm.stats.anova_lm(model, type=3)\n",
    "print(anova_table)"
   ]
  },
  {
   "cell_type": "code",
   "execution_count": 11,
   "metadata": {},
   "outputs": [
    {
     "data": {
      "text/plain": [
       "True"
      ]
     },
     "execution_count": 11,
     "metadata": {},
     "output_type": "execute_result"
    }
   ],
   "source": [
    "significance_level = 0.05\n",
    "p_A = anova_table.loc[\"Temperature\", \"PR(>F)\"]\n",
    "p_A < significance_level"
   ]
  },
  {
   "cell_type": "code",
   "execution_count": 12,
   "metadata": {},
   "outputs": [
    {
     "data": {
      "text/plain": [
       "True"
      ]
     },
     "execution_count": 12,
     "metadata": {},
     "output_type": "execute_result"
    }
   ],
   "source": [
    "p_B = anova_table.loc[\"CycleTime\", \"PR(>F)\"]\n",
    "p_B < significance_level"
   ]
  },
  {
   "cell_type": "code",
   "execution_count": 13,
   "metadata": {},
   "outputs": [
    {
     "data": {
      "text/plain": [
       "True"
      ]
     },
     "execution_count": 13,
     "metadata": {},
     "output_type": "execute_result"
    }
   ],
   "source": [
    "p_C = anova_table.loc[\"Operator\", \"PR(>F)\"]\n",
    "p_C < significance_level"
   ]
  },
  {
   "cell_type": "code",
   "execution_count": 14,
   "metadata": {},
   "outputs": [
    {
     "data": {
      "text/plain": [
       "True"
      ]
     },
     "execution_count": 14,
     "metadata": {},
     "output_type": "execute_result"
    }
   ],
   "source": [
    "p_AB = anova_table.loc[\"Temperature:CycleTime\", \"PR(>F)\"]\n",
    "p_AB < significance_level"
   ]
  },
  {
   "cell_type": "code",
   "execution_count": 15,
   "metadata": {},
   "outputs": [
    {
     "data": {
      "text/plain": [
       "False"
      ]
     },
     "execution_count": 15,
     "metadata": {},
     "output_type": "execute_result"
    }
   ],
   "source": [
    "p_AC = anova_table.loc[\"Temperature:Operator\", \"PR(>F)\"]\n",
    "p_AC < significance_level"
   ]
  },
  {
   "cell_type": "code",
   "execution_count": 16,
   "metadata": {},
   "outputs": [
    {
     "data": {
      "text/plain": [
       "True"
      ]
     },
     "execution_count": 16,
     "metadata": {},
     "output_type": "execute_result"
    }
   ],
   "source": [
    "p_BC = anova_table.loc[\"CycleTime:Operator\", \"PR(>F)\"]\n",
    "p_BC < significance_level"
   ]
  },
  {
   "cell_type": "code",
   "execution_count": 17,
   "metadata": {},
   "outputs": [
    {
     "data": {
      "text/plain": [
       "True"
      ]
     },
     "execution_count": 17,
     "metadata": {},
     "output_type": "execute_result"
    }
   ],
   "source": [
    "p_ABC = anova_table.loc[\"Temperature:CycleTime:Operator\", \"PR(>F)\"]\n",
    "p_ABC < significance_level"
   ]
  },
  {
   "cell_type": "markdown",
   "metadata": {},
   "source": [
    "If the p-values is less than 0.05, then it means the effect is significant. For example, CycleTime $\\beta_j$ is significant for the model since p_B is less than 0.05. Similarly, the effect of interaction between Temperature and Operator is NOT significant. On the other hand, the confidence intervals tell us the range in which the true parameter values which means effects of Temperature, Cycle Time, Operator, and their interactions are likely to fall. If a CI does not include 0, the effect is significant. That is, if the confidence interval contains 0, it means that the effect could be zero which means the factor might not have a real impact. For example, CI for Operator 3 is (-2.1730867558824016, 1.2841978669935086) and it includes 0. So, we can say that the effect of Operator 3 is NOT significant."
   ]
  },
  {
   "cell_type": "code",
   "execution_count": null,
   "metadata": {},
   "outputs": [],
   "source": []
  }
 ],
 "metadata": {
  "kernelspec": {
   "display_name": "new-env",
   "language": "python",
   "name": "python3"
  },
  "language_info": {
   "codemirror_mode": {
    "name": "ipython",
    "version": 3
   },
   "file_extension": ".py",
   "mimetype": "text/x-python",
   "name": "python",
   "nbconvert_exporter": "python",
   "pygments_lexer": "ipython3",
   "version": "3.11.10"
  }
 },
 "nbformat": 4,
 "nbformat_minor": 2
}
