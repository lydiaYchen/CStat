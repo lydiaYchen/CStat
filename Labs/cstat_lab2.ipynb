{
 "cells": [
  {
   "cell_type": "markdown",
   "id": "d8ca67ba",
   "metadata": {},
   "source": [
    "# CSTAT Lab #2\n",
    "\n",
    "This is the second lab of the computational statistics course, covering the confidence interval for mean, variance and their differences."
   ]
  },
  {
   "cell_type": "code",
   "execution_count": 1,
   "id": "87fb8cc6",
   "metadata": {},
   "outputs": [],
   "source": [
    "import pandas as pd\n",
    "import numpy as np\n",
    "import matplotlib.pyplot as plt\n",
    "from scipy.stats import t"
   ]
  },
  {
   "cell_type": "code",
   "execution_count": 2,
   "id": "889f15af",
   "metadata": {},
   "outputs": [
    {
     "data": {
      "text/html": [
       "<div>\n",
       "<style scoped>\n",
       "    .dataframe tbody tr th:only-of-type {\n",
       "        vertical-align: middle;\n",
       "    }\n",
       "\n",
       "    .dataframe tbody tr th {\n",
       "        vertical-align: top;\n",
       "    }\n",
       "\n",
       "    .dataframe thead th {\n",
       "        text-align: right;\n",
       "    }\n",
       "</style>\n",
       "<table border=\"1\" class=\"dataframe\">\n",
       "  <thead>\n",
       "    <tr style=\"text-align: right;\">\n",
       "      <th></th>\n",
       "      <th>Date</th>\n",
       "      <th>Ligne</th>\n",
       "      <th>Ligne Type</th>\n",
       "      <th>Jour Semaine</th>\n",
       "      <th>Horaire Type</th>\n",
       "      <th>Arrêt</th>\n",
       "      <th>Arrêt Code Long</th>\n",
       "      <th>Indice Semaine</th>\n",
       "      <th>Indice Jour Semaine</th>\n",
       "      <th>Nombre de Montées</th>\n",
       "      <th>Nombre de Descentes</th>\n",
       "      <th>Mois Annee</th>\n",
       "    </tr>\n",
       "  </thead>\n",
       "  <tbody>\n",
       "    <tr>\n",
       "      <th>0</th>\n",
       "      <td>2024-12-03</td>\n",
       "      <td>1</td>\n",
       "      <td>PRINCIPAL</td>\n",
       "      <td>2-Mardi</td>\n",
       "      <td>NORMAL</td>\n",
       "      <td>Belle-Idée-Centre</td>\n",
       "      <td>BLID00</td>\n",
       "      <td>49</td>\n",
       "      <td>2</td>\n",
       "      <td>118.05</td>\n",
       "      <td>5.06</td>\n",
       "      <td>2024-12</td>\n",
       "    </tr>\n",
       "    <tr>\n",
       "      <th>1</th>\n",
       "      <td>2024-12-03</td>\n",
       "      <td>1</td>\n",
       "      <td>PRINCIPAL</td>\n",
       "      <td>2-Mardi</td>\n",
       "      <td>NORMAL</td>\n",
       "      <td>Belle-Idée-Réception</td>\n",
       "      <td>BISA01</td>\n",
       "      <td>49</td>\n",
       "      <td>2</td>\n",
       "      <td>3.96</td>\n",
       "      <td>70.58</td>\n",
       "      <td>2024-12</td>\n",
       "    </tr>\n",
       "    <tr>\n",
       "      <th>2</th>\n",
       "      <td>2024-12-03</td>\n",
       "      <td>1</td>\n",
       "      <td>PRINCIPAL</td>\n",
       "      <td>2-Mardi</td>\n",
       "      <td>NORMAL</td>\n",
       "      <td>Ch. de l'Eperon</td>\n",
       "      <td>CEPR99</td>\n",
       "      <td>49</td>\n",
       "      <td>2</td>\n",
       "      <td>349.06</td>\n",
       "      <td>111.60</td>\n",
       "      <td>2024-12</td>\n",
       "    </tr>\n",
       "    <tr>\n",
       "      <th>3</th>\n",
       "      <td>2024-12-03</td>\n",
       "      <td>1</td>\n",
       "      <td>PRINCIPAL</td>\n",
       "      <td>2-Mardi</td>\n",
       "      <td>NORMAL</td>\n",
       "      <td>Chêne-Bougeries, Gradelle</td>\n",
       "      <td>GRDL01</td>\n",
       "      <td>49</td>\n",
       "      <td>2</td>\n",
       "      <td>277.34</td>\n",
       "      <td>83.78</td>\n",
       "      <td>2024-12</td>\n",
       "    </tr>\n",
       "    <tr>\n",
       "      <th>4</th>\n",
       "      <td>2024-12-03</td>\n",
       "      <td>1</td>\n",
       "      <td>PRINCIPAL</td>\n",
       "      <td>2-Mardi</td>\n",
       "      <td>NORMAL</td>\n",
       "      <td>Cirque</td>\n",
       "      <td>CIRQ00</td>\n",
       "      <td>49</td>\n",
       "      <td>2</td>\n",
       "      <td>695.15</td>\n",
       "      <td>677.48</td>\n",
       "      <td>2024-12</td>\n",
       "    </tr>\n",
       "  </tbody>\n",
       "</table>\n",
       "</div>"
      ],
      "text/plain": [
       "         Date Ligne Ligne Type Jour Semaine Horaire Type  \\\n",
       "0  2024-12-03     1  PRINCIPAL      2-Mardi       NORMAL   \n",
       "1  2024-12-03     1  PRINCIPAL      2-Mardi       NORMAL   \n",
       "2  2024-12-03     1  PRINCIPAL      2-Mardi       NORMAL   \n",
       "3  2024-12-03     1  PRINCIPAL      2-Mardi       NORMAL   \n",
       "4  2024-12-03     1  PRINCIPAL      2-Mardi       NORMAL   \n",
       "\n",
       "                       Arrêt Arrêt Code Long  Indice Semaine  \\\n",
       "0          Belle-Idée-Centre          BLID00              49   \n",
       "1       Belle-Idée-Réception          BISA01              49   \n",
       "2            Ch. de l'Eperon          CEPR99              49   \n",
       "3  Chêne-Bougeries, Gradelle          GRDL01              49   \n",
       "4                     Cirque          CIRQ00              49   \n",
       "\n",
       "   Indice Jour Semaine  Nombre de Montées  Nombre de Descentes Mois Annee  \n",
       "0                    2             118.05                 5.06    2024-12  \n",
       "1                    2               3.96                70.58    2024-12  \n",
       "2                    2             349.06               111.60    2024-12  \n",
       "3                    2             277.34                83.78    2024-12  \n",
       "4                    2             695.15               677.48    2024-12  "
      ]
     },
     "execution_count": 2,
     "metadata": {},
     "output_type": "execute_result"
    }
   ],
   "source": [
    "df = pd.read_pickle(\"tpg_data.zip\")\n",
    "df.head()"
   ]
  },
  {
   "cell_type": "markdown",
   "id": "9f475f60",
   "metadata": {},
   "source": [
    "As you can notice, the data is split between values from the holiday period and the rest of the year. During this lab, we will try to find out which stops are affected by the change in season."
   ]
  },
  {
   "cell_type": "code",
   "execution_count": 3,
   "id": "30e32a3d",
   "metadata": {},
   "outputs": [],
   "source": [
    "vac = df[df['Horaire Type'] == 'VACANCES']\n",
    "nml = df[df['Horaire Type'] == 'NORMAL']"
   ]
  },
  {
   "cell_type": "markdown",
   "id": "a2bc1311",
   "metadata": {},
   "source": [
    "To do so, we will compare the mean of the different season and consider their confidence intervals"
   ]
  },
  {
   "cell_type": "code",
   "execution_count": 4,
   "id": "302cba47",
   "metadata": {},
   "outputs": [
    {
     "data": {
      "text/plain": [
       "Arrêt\n",
       "31 Décembre              254.409915\n",
       "Acacias                  805.522750\n",
       "Aigues-Vertes             45.743263\n",
       "Aire-la-Ville-Centre      45.098114\n",
       "Aire-la-Ville-Croisée     12.701772\n",
       "                            ...    \n",
       "Wendt                    493.563395\n",
       "ZIMEYSA-Gare              57.469792\n",
       "ZIMEYSA-Ouest              2.860000\n",
       "ZIMOGA                    11.135500\n",
       "ZIPLO                    296.909061\n",
       "Name: Nombre de Montées, Length: 902, dtype: float64"
      ]
     },
     "execution_count": 4,
     "metadata": {},
     "output_type": "execute_result"
    }
   ],
   "source": [
    "vac.groupby('Arrêt')['Nombre de Montées'].agg('mean')\n",
    "nml.groupby('Arrêt')['Nombre de Montées'].agg('mean')"
   ]
  },
  {
   "cell_type": "markdown",
   "id": "7c4a0086",
   "metadata": {},
   "source": [
    "## Pooled sample variance\n",
    "\n",
    "We first begin by computing the sample variance"
   ]
  },
  {
   "cell_type": "code",
   "execution_count": null,
   "id": "16b23367",
   "metadata": {},
   "outputs": [],
   "source": [
    "nml_stops_std = nml.groupby('Arrêt')['Nombre de Montées'].agg('std')\n",
    "vac_stops_std = vac.groupby('Arrêt')['Nombre de Montées'].agg('std')\n",
    "n = nml.groupby('Arrêt')['Nombre de Montées'].nunique()\n",
    "m = vac.groupby('Arrêt')['Nombre de Montées'].nunique()\n",
    "\n",
    "\n",
    "sample_var_pool = ..."
   ]
  },
  {
   "cell_type": "markdown",
   "id": "d27de633",
   "metadata": {},
   "source": [
    "We can now compute a 99% confidence interval. To do so, you will need to use the Student T distribution and in particular the $t_{\\alpha, n}$ coefficient that you can compute using `t.ppf()`"
   ]
  },
  {
   "cell_type": "code",
   "execution_count": null,
   "id": "4218fa90",
   "metadata": {},
   "outputs": [],
   "source": [
    "interval = ..."
   ]
  },
  {
   "cell_type": "markdown",
   "id": "024329fd",
   "metadata": {},
   "source": [
    "Compute the interval for each stop and find the ones where there is no significant change"
   ]
  },
  {
   "cell_type": "code",
   "execution_count": null,
   "id": "5e9c997a",
   "metadata": {},
   "outputs": [],
   "source": [
    "vac_mean = vac.groupby('Arrêt')['Nombre de Montées'].agg('mean')\n",
    "nml_mean = nml.groupby('Arrêt')['Nombre de Montées'].agg('mean')\n",
    "diff_mean = nml_mean - vac_mean"
   ]
  },
  {
   "cell_type": "code",
   "execution_count": null,
   "id": "d1047495",
   "metadata": {},
   "outputs": [],
   "source": [
    "intervals = ..."
   ]
  },
  {
   "cell_type": "markdown",
   "id": "6e2a565e",
   "metadata": {},
   "source": [
    "How many stops have no significant difference with 99% certainty ?"
   ]
  },
  {
   "cell_type": "code",
   "execution_count": null,
   "id": "228eb9fc",
   "metadata": {},
   "outputs": [],
   "source": []
  },
  {
   "cell_type": "markdown",
   "id": "870ad2bd",
   "metadata": {},
   "source": [
    "What are the assumptions we used ? Are they sound ?"
   ]
  },
  {
   "cell_type": "markdown",
   "id": "a5b6d946",
   "metadata": {},
   "source": []
  },
  {
   "cell_type": "markdown",
   "id": "f2d6fe18",
   "metadata": {},
   "source": [
    "## Welch's $t$-interval\n",
    "\n",
    "Repeat the process using Welch's $t$-interval, where we assume the variances are not equal"
   ]
  },
  {
   "cell_type": "code",
   "execution_count": null,
   "id": "9f124582",
   "metadata": {},
   "outputs": [],
   "source": [
    "interval_w = ..."
   ]
  },
  {
   "cell_type": "code",
   "execution_count": null,
   "id": "cd13ff2e",
   "metadata": {},
   "outputs": [],
   "source": [
    "intervals_w = ..."
   ]
  },
  {
   "cell_type": "code",
   "execution_count": null,
   "id": "6b68ec1e",
   "metadata": {},
   "outputs": [],
   "source": [
    "count"
   ]
  },
  {
   "cell_type": "markdown",
   "id": "397278c4",
   "metadata": {},
   "source": [
    "## Visualization\n",
    "\n",
    "Finally, let's plot our result to get a better picture of what we've covered so far. Plot the different values for the gap in mean and their confidence interval."
   ]
  },
  {
   "cell_type": "code",
   "execution_count": null,
   "id": "327f3374",
   "metadata": {},
   "outputs": [],
   "source": []
  }
 ],
 "metadata": {
  "kernelspec": {
   "display_name": "Python 3 (ipykernel)",
   "language": "python",
   "name": "python3"
  },
  "language_info": {
   "codemirror_mode": {
    "name": "ipython",
    "version": 3
   },
   "file_extension": ".py",
   "mimetype": "text/x-python",
   "name": "python",
   "nbconvert_exporter": "python",
   "pygments_lexer": "ipython3",
   "version": "3.11.2"
  }
 },
 "nbformat": 4,
 "nbformat_minor": 5
}
