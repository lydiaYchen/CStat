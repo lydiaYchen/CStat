{
 "cells": [
  {
   "cell_type": "markdown",
   "id": "0c5e409e",
   "metadata": {},
   "source": [
    "# CSTAT Lab #7\n",
    "This is the seventh lab of the computational statistics course, covering time series, the AR(1) and MA(1) model and the ACF and PACF functions."
   ]
  },
  {
   "cell_type": "code",
   "execution_count": null,
   "id": "e0cbf29d",
   "metadata": {},
   "outputs": [],
   "source": [
    "# import necessary libraries\n",
    "import numpy as np\n",
    "import pandas as pd\n",
    "import matplotlib.pyplot as plt\n",
    "import statsmodels.api as sm\n",
    "from statsmodels.graphics.tsaplots import plot_pacf\n",
    "%matplotlib inline\n",
    "np.random.seed(42)"
   ]
  },
  {
   "cell_type": "code",
   "execution_count": null,
   "id": "f3fc014f",
   "metadata": {},
   "outputs": [],
   "source": [
    "air_data = sm.datasets.get_rdataset(\"AirPassengers\", \"datasets\", cache=True).data\n",
    "df_air = air_data.copy()\n",
    "# This is a simplistic conversion from decimal year to a monthly date range\n",
    "start_year = int(df_air['time'].iloc[0])\n",
    "n_points = len(df_air)\n",
    "df_air.index = pd.date_range(start=f\"{start_year}-01\", periods=n_points, freq=\"ME\")\n",
    "df_air.drop(columns='time', inplace=True, errors='ignore')\n",
    "df_air.columns = ['AirPassengers']\n",
    "df_air.index.name = 'Date'\n",
    "\n",
    "# Simulate AR(1)\n",
    "phi = 0.7\n",
    "n = 1000\n",
    "sigma = 1.0\n",
    "eps = np.random.normal(0, sigma, n)\n",
    "\n",
    "x = np.zeros(n)\n",
    "for t in range(1, n):\n",
    "    x[t] = phi * x[t - 1] + eps[t]\n",
    "df_sim = pd.DataFrame(x, columns=['SimulatedAR1'])\n",
    "df_sim.index = pd.date_range(start=\"2000-01\", periods=n, freq=\"ME\")\n",
    "df_sim.index.name = 'Date'\n",
    "\n",
    "# Create a figure with subplots for sunspot and air passenger data\n",
    "fig, axes = plt.subplots(2, 1, figsize=(12, 10))\n",
    "\n",
    "# Plot Air passengers time series\n",
    "axes[0].plot(df_air.index, df_air['AirPassengers'], marker='o', linestyle='-', color='blue')\n",
    "axes[0].set_title(\"Air Passengers Over Time\")\n",
    "axes[0].set_ylabel(\"Number of Passengers\")\n",
    "axes[0].set_xlabel(\"Date\")\n",
    "axes[0].grid(True, alpha=0.3)\n",
    "\n",
    "# Plot Sunspot activity\n",
    "axes[1].plot(df_sim.index, df_sim['SimulatedAR1'], marker='o', linestyle='-', color='orange')\n",
    "axes[1].set_title(\"Simulated AR(1) Process\")\n",
    "axes[1].set_ylabel(\"Simulated Value\")\n",
    "axes[1].set_xlabel(\"Date\")\n",
    "axes[1].grid(True, alpha=0.3)\n",
    "\n",
    "plt.tight_layout()\n",
    "plt.show()"
   ]
  },
  {
   "cell_type": "markdown",
   "id": "ca77805a",
   "metadata": {},
   "source": [
    "Our first dataset is the air passengers dataset, covering a period in the 20th century with total monthly air passengers as points.\n",
    "Next, we simulate a AR(1) process with zero-mean and $\\phi_1 = 0.7, \\sigma_w^2 = 1$ by repeatedly drawing $w_t \\sim N(0,\\sigma_w^2)$, giving us the second graph."
   ]
  },
  {
   "cell_type": "markdown",
   "id": "0e4490b4",
   "metadata": {},
   "source": [
    "# Time Series properties\n",
    "## Analyzing the graph \n",
    "Start by analyzing the air passengers time series, starting by testing your intuition using the above graph. \n",
    "\n",
    "1. Consider if both time series have a trend, seasonality and/or constant variance.  \n",
    "2. Is the time series weakly stationary? (same mean and variance for all time steps and covariance between $x_t$ and $x_{t-h}$ is the same for all lags h)\n",
    "\n",
    "## Quantitative analysis \n",
    "Let us analyze some properties of the air passengers data. \n",
    "For both datasets, start by plotting $x_t$ with its lagged version $x_{t-1}$ and see if we recognize a possible AR relationship."
   ]
  },
  {
   "cell_type": "code",
   "execution_count": null,
   "id": "949689f4",
   "metadata": {},
   "outputs": [],
   "source": [
    "\n",
    "# Plot xt vs xt-1 for AirPassengers\n",
    "air_passengers_values = df_air['AirPassengers']\n",
    "plt.figure(figsize=(10, 4))\n",
    "\n",
    "air_passengers_xt_minus_1 = ...\n",
    "air_passengers_xt = ...\n",
    "\n",
    "plt.scatter(air_passengers_xt, air_passengers_xt_minus_1, alpha=0.5)\n",
    "plt.title(\"Scatter plot of xt vs xt-1 for Air Passengers\")\n",
    "plt.ylabel(\"xt\")\n",
    "plt.xlabel(\"xt-1\")\n",
    "plt.show()\n",
    "\n",
    "# Plot xt vs xt-1 for Simulated AR(1)\n",
    "ar1_values = df_sim['SimulatedAR1']\n",
    "plt.figure(figsize=(10, 4))\n",
    "\n",
    "simulated_ar1_xt_minus_1 = ...\n",
    "simulated_ar1_xt = ...\n",
    "\n",
    "plt.scatter(simulated_ar1_xt, simulated_ar1_xt_minus_1, alpha=0.5)\n",
    "plt.title(\"Scatter plot of xt vs xt-1 for Simulated AR(1)\")\n",
    "plt.ylabel(\"xt\")\n",
    "plt.xlabel(\"xt-1\")\n",
    "plt.show()\n"
   ]
  },
  {
   "cell_type": "markdown",
   "id": "c1bc5067",
   "metadata": {},
   "source": [
    "In the above graphs, since the AR(1) model is written as $x_t = \\delta + \\phi_1 x_{t-1} + w_t$ a linear trend can indicate that an AR(1) process is a good first choice.  We would expect the residuals to be normally distributed with zero mean. Calculate the residuals after regressing the $x_t$ on $x_{t-1}$."
   ]
  },
  {
   "cell_type": "code",
   "execution_count": null,
   "id": "a9d9cd67",
   "metadata": {},
   "outputs": [],
   "source": [
    "regression_residuals_air = ...\n",
    "regression_residuals_sim = ...\n",
    "\n",
    "# Plotting the residuals of the regression for Air Passengers\n",
    "plt.figure(figsize=(12, 5))\n",
    "plt.subplot(1, 2, 1)\n",
    "plt.plot(df_air.index[1:], regression_residuals_air, marker='o', linestyle='-', color='blue')\n",
    "plt.title(\"Residuals of Regression for Air Passengers\")\n",
    "plt.ylabel(\"Residuals\")\n",
    "plt.xlabel(\"Date\")\n",
    "plt.grid(True, alpha=0.3)\n",
    "\n",
    "# Plotting the residuals of the regression for Simulated AR(1)\n",
    "plt.subplot(1, 2, 2)\n",
    "plt.plot(df_sim.index[1:], regression_residuals_sim, marker='o', linestyle='-', color='orange')\n",
    "plt.title(\"Residuals of Regression for Simulated AR(1)\")\n",
    "plt.ylabel(\"Residuals\")\n",
    "plt.xlabel(\"Date\")\n",
    "plt.grid(True, alpha=0.3)\n",
    "plt.tight_layout()\n",
    "plt.show()\n",
    "\n",
    "    "
   ]
  },
  {
   "cell_type": "markdown",
   "id": "1bc8b762",
   "metadata": {},
   "source": [
    "Practitioners often analyze time series by \"differencing\" i.e. computing $x_t - x_{t-1}$ and inspecting its properties. A simple function for this is np.diff(...)."
   ]
  },
  {
   "cell_type": "markdown",
   "id": "8b1053f8",
   "metadata": {},
   "source": [
    "## Autocorrelation\n",
    "Now we move on to the analysis and calculation of the sample autocorrelations for each dataset. \n",
    "Fill in the blanks in the manual acf function below."
   ]
  },
  {
   "cell_type": "code",
   "execution_count": null,
   "id": "f28a68ae",
   "metadata": {},
   "outputs": [],
   "source": [
    "\n",
    "def manual_acf(series, max_lag):\n",
    "    x = series.values\n",
    "    n = len(x)\n",
    "    mean_x = ...\n",
    "    denominator = ...\n",
    "    \n",
    "    acf_vals = []\n",
    "    for lag in range(max_lag + 1):\n",
    "        future_values = x[lag:]\n",
    "        past_values = x[:n - lag]\n",
    "        numerator = ...\n",
    "        acf_vals.append(float(numerator / denominator))\n",
    "    return acf_vals\n",
    "\n",
    "# Calculate ACF values\n",
    "acf_vals_air = manual_acf(df_air['AirPassengers'], max_lag=20)\n",
    "acf_vals_ar1 = manual_acf(df_sim['SimulatedAR1'], max_lag=20)\n",
    "\n",
    "print(f\"ACF values for simulated AR(1): {acf_vals_ar1}\")\n",
    "\n",
    "# 95% confidence bounds (assuming white noise)\n",
    "n_air = len(df_air)\n",
    "n_sim = len(df_sim)\n",
    "conf_air = 1.96 / np.sqrt(n_air)\n",
    "conf_sim = 1.96 / np.sqrt(n_sim)\n",
    "\n",
    "# Plot\n",
    "plt.figure(figsize=(12, 6))\n",
    "\n",
    "lags = np.arange(len(acf_vals_air))\n",
    "\n",
    "# Air Passengers\n",
    "plt.bar(lags - 0.15, acf_vals_air, width=0.3, alpha=0.7, color='blue', label='Air Passengers')\n",
    "plt.hlines([conf_air], xmin=-0.5, xmax=max(lags), colors='blue', linestyles='--', alpha=0.6)\n",
    "\n",
    "# Sunspots\n",
    "plt.bar(lags + 0.15, acf_vals_ar1, width=0.3, alpha=0.7, color='orange', label='Simulated AR(1)')\n",
    "plt.hlines([conf_sim, -conf_sim], xmin=-0.5, xmax=max(lags), colors='red', linestyles='--', alpha=0.6)\n",
    "plt.title(\"ACF Comparison with 95% Significance Bounds\")\n",
    "plt.xlabel(\"Lag\")\n",
    "plt.ylabel(\"ACF Value\")\n",
    "plt.xticks(lags)\n",
    "plt.grid(True, alpha=0.3, linestyle='--')\n",
    "plt.legend()\n",
    "plt.tight_layout()\n",
    "plt.show()\n",
    "\n",
    "\n"
   ]
  },
  {
   "cell_type": "markdown",
   "id": "74c4afc2",
   "metadata": {},
   "source": [
    "For AR(1) models, the ACF shows a tapering pattern defined by $\\phi_1^h$. See if you can estimate $\\phi_1$ from the AR(1) ACF values using a calculator. Notice that the air passengers dataset carries a complex autocorrelation pattern. Describe why the autocorrelation spikes around 12 months. "
   ]
  },
  {
   "cell_type": "markdown",
   "id": "817c85b1",
   "metadata": {},
   "source": [
    "## AR(1) model\n",
    "The AR(1) model is defined by the relation $x_t = \\phi_1 x_{t-1} + w_t$. \n",
    "Let us see how our data fits this model by manually fitting the AR(1) model using the MLE estimator (least squares): \n",
    "\n",
    "\n",
    "We consider the AR(1) model:\n",
    "\n",
    "$x_t = \\phi_1 x_{t-1} + w_t, \\quad w_t \\sim \\mathcal{N}(0, \\sigma^2), \\quad t = 2, \\dots, n$\n",
    "\n",
    "\n",
    "The conditional likelihood of $x_t$ is\n",
    ":\n",
    "\n",
    "$L(\\phi_1, \\sigma^2) = \\prod_{t=2}^n \\frac{1}{\\sqrt{2\\pi \\sigma^2}} \\exp\\left( -\\frac{(x_t - \\phi_1 x_{t-1})^2}{2\\sigma^2} \\right)$\n",
    "\n",
    "The log-likelihood function is:\n",
    "$\\log L(\\phi_1, \\sigma^2) = -\\frac{n-1}{2} \\log(2\\pi \\sigma^2) - \\frac{1}{2\\sigma^2} \\sum_{t=2}^n (x_t - \\phi_1 x_{t-1})^2$\n",
    "\n",
    "To find the MLE of $ \\phi_1 $, we can fix $ \\sigma^2 $ and maximize the log-likelihood with respect to $ \\phi_1 $. This is equivalent to minimizing the sum of squared residuals:\n",
    "$\\min_{\\phi_1} \\sum_{t=2}^n (x_t - \\phi_1 x_{t-1})^2$\n",
    "\n",
    "\n",
    "Solving gives:\n",
    "\n",
    "$\\sum_{t=2}^n x_t x_{t-1} - \\phi_1 \\sum_{t=2}^n x_{t-1}^2 = 0$\n",
    "\n",
    "\n",
    "$ \\Rightarrow \\hat{\\phi_1}_{\\text{MLE}} = \\frac{\\sum_{t=2}^n x_t x_{t-1}}{\\sum_{t=2}^n x_{t-1}^2} $\n",
    "\n",
    "\n",
    "\n",
    "With this estimate, we can inspect if the correlation between observations h time steps apart adheres to the function $\\phi_1^h$. Fill in the blanks below to get the least-squares estimate of $\\phi_1$"
   ]
  },
  {
   "cell_type": "code",
   "execution_count": null,
   "id": "0f1e511c",
   "metadata": {},
   "outputs": [],
   "source": [
    "def lse_phi(series):\n",
    "    x = series.values\n",
    "\n",
    "    current_values = ...\n",
    "    lagged_values = ...\n",
    "\n",
    "    numerator = ...\n",
    "    denominator = ...\n",
    "\n",
    "    phi_hat = numerator / denominator\n",
    "    return phi_hat\n",
    "\n",
    "# Estimate phi for Air Passengers\n",
    "phi_hat_air = lse_phi(df_air['AirPassengers'])\n",
    "print(f\"Estimated phi for Air Passengers: {phi_hat_air:.4f}\")\n",
    "\n",
    "# Estimate phi for Simulated AR(1)\n",
    "phi_hat_ar1 = lse_phi(df_sim['SimulatedAR1'])\n",
    "print(f\"Estimated phi for Simulated AR(1): {phi_hat_ar1:.4f}\")\n",
    "\n",
    "## plot phi^h for simulated AR(1) process over the original acf\n",
    "\n",
    "plt.figure(figsize=(12, 6))\n",
    "lags = np.arange(len(acf_vals_ar1))\n",
    "plt.bar(lags + 0.15, acf_vals_ar1, width=0.3, alpha=0.7, color='orange', label='Simulated AR(1)')\n",
    "plt.hlines([conf_sim], xmin=-0.5, xmax=max(lags), colors='red', linestyles='--', alpha=0.6)\n",
    "plt.plot(lags, [phi_hat_ar1**lag for lag in lags], color='green', label='Estimated phi^h', linewidth=2)\n",
    "\n",
    "plt.title(\"ACF of Simulated AR(1) Process with Estimated phi^h\")\n",
    "plt.xlabel(\"Lag\")\n",
    "plt.ylabel(\"ACF Value\")\n",
    "plt.xticks(lags)\n",
    "plt.grid(True, alpha=0.3, linestyle='--')\n",
    "plt.legend()\n",
    "plt.tight_layout()\n",
    "plt.show()\n"
   ]
  },
  {
   "cell_type": "markdown",
   "id": "1ab37da9",
   "metadata": {},
   "source": [
    "Notice how the estimate fits the ACF quite well.\n",
    "Our estimated $\\phi_1$ for the Air Passengers is > 1, which is concerning! \n",
    "The relation $\\phi_1^h$ means that our ACF would be increasing, perhaps a better model is needed. \n",
    "We will come back to this dataset in a future lab."
   ]
  },
  {
   "cell_type": "markdown",
   "id": "a537efa3",
   "metadata": {},
   "source": [
    "## MA(1) model\n",
    "\n",
    "We simulate an MA(1) model: $x_t = \\mu + w_t + \\theta_1 w_{t-1}$ with $\\mu = 0, \\theta_1 = 0.5, \\sigma^2_w = 1$"
   ]
  },
  {
   "cell_type": "code",
   "execution_count": null,
   "id": "ffe33894",
   "metadata": {},
   "outputs": [],
   "source": [
    "def simulate_ma1(theta, n, sigma):\n",
    "    eps = np.random.normal(0, sigma, n)\n",
    "    x = np.zeros(n)\n",
    "    for t in range(1, n):\n",
    "        x[t] = eps[t] + theta * eps[t - 1]\n",
    "    return x\n",
    "\n",
    "\n",
    "# Simulate MA(1) process\n",
    "theta = 0.5\n",
    "ma1_data = simulate_ma1(theta, n, sigma)\n",
    "df_ma1 = pd.DataFrame(ma1_data, columns=['SimulatedMA1'])\n",
    "df_ma1.index = pd.date_range(start=\"2000-01\", periods=n, freq=\"ME\")\n",
    "df_ma1.index.name = 'Date'\n",
    "\n",
    "# Plot the MA(1) process\n",
    "plt.figure(figsize=(12, 6))\n",
    "plt.plot(df_ma1.index, df_ma1['SimulatedMA1'], marker='o', linestyle='-', color='purple', label='Simulated MA(1)')\n",
    "plt.title(\"SimulatedMA(1) Process\")\n",
    "plt.ylabel(\"Value\")\n",
    "plt.xlabel(\"Date\")\n",
    "plt.grid(True, alpha=0.3)\n",
    "plt.legend()\n",
    "plt.show()\n"
   ]
  },
  {
   "cell_type": "markdown",
   "id": "24c759ed",
   "metadata": {},
   "source": [
    "Theoretically, the only nonzero value of the ACF for an MA(1) process is the first lag. Verify this in the code block below."
   ]
  },
  {
   "cell_type": "code",
   "execution_count": null,
   "id": "6f60b9e9",
   "metadata": {},
   "outputs": [],
   "source": [
    "ma1_acf_vals = ...\n",
    "print(f\"First 5 ACF values for Simulated MA(1): {ma1_acf_vals[:5]}\")\n",
    "conf_ma1 = ...\n",
    "print(f\"95% confidence interval for MA(1): {conf_ma1:.4f}\")\n"
   ]
  },
  {
   "cell_type": "markdown",
   "id": "a0ab0ccd",
   "metadata": {},
   "source": [
    "Moving on to the PACF function, we use plot_pacf from statsmodels to visualize our pacf values.\n",
    "We will not calculate this manually, since it is quite involved. Statsmodels uses the \"Yule-Walker\" equations to estimate the PACF values. \n",
    "Add the code to plot the pacf for our simulated datasets."
   ]
  },
  {
   "cell_type": "code",
   "execution_count": null,
   "id": "0e4c78bb",
   "metadata": {},
   "outputs": [],
   "source": [
    "# Plot ACF comparison with three subplots side by side\n",
    "fig, axes = plt.subplots(1, 3, figsize=(18, 5))\n",
    "\n",
    "# Plot PACF for Air Passengers\n",
    "plot_pacf(df_air['AirPassengers'], lags=20, alpha=0.05, ax=axes[0], color='blue')\n",
    "axes[0].set_title('PACF: Air Passengers', fontsize=12)\n",
    "axes[0].grid(True, alpha=0.3, linestyle='--')\n",
    "\n",
    "# Plot PACF for AR(1) simulation\n",
    "...\n",
    "...\n",
    "...\n",
    "\n",
    "# Plot PACF for MA(1) simulation\n",
    "...\n",
    "...\n",
    "...\n",
    "\n",
    "plt.tight_layout()\n",
    "plt.show()"
   ]
  },
  {
   "cell_type": "markdown",
   "id": "f2300f36",
   "metadata": {},
   "source": [
    "## PACF analysis\n",
    "1. Characterize how we recognize the simulated AR and MA nature of our simulated processes. \n",
    "2. Hypothesize what kind of model would fit the Air Passengers data."
   ]
  }
 ],
 "metadata": {
  "kernelspec": {
   "display_name": ".venv",
   "language": "python",
   "name": "python3"
  },
  "language_info": {
   "codemirror_mode": {
    "name": "ipython",
    "version": 3
   },
   "file_extension": ".py",
   "mimetype": "text/x-python",
   "name": "python",
   "nbconvert_exporter": "python",
   "pygments_lexer": "ipython3",
   "version": "3.11.9"
  }
 },
 "nbformat": 4,
 "nbformat_minor": 5
}
